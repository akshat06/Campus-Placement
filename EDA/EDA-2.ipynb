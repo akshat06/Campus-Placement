{
 "cells": [
  {
   "cell_type": "code",
   "execution_count": 1,
   "id": "7bd6cd1e",
   "metadata": {},
   "outputs": [],
   "source": [
    "import pandas as pd\n",
    "import numpy as np\n",
    "import seaborn as sns\n",
    "import matplotlib.pyplot as plt\n",
    "%matplotlib inline\n",
    "import pickle"
   ]
  },
  {
   "cell_type": "code",
   "execution_count": 6,
   "id": "ad1411cd",
   "metadata": {},
   "outputs": [],
   "source": [
    "df = pd.read_csv('dataset/train_clean.csv')"
   ]
  },
  {
   "cell_type": "code",
   "execution_count": 7,
   "id": "2b266aaf",
   "metadata": {},
   "outputs": [
    {
     "data": {
      "text/html": [
       "<div>\n",
       "<style scoped>\n",
       "    .dataframe tbody tr th:only-of-type {\n",
       "        vertical-align: middle;\n",
       "    }\n",
       "\n",
       "    .dataframe tbody tr th {\n",
       "        vertical-align: top;\n",
       "    }\n",
       "\n",
       "    .dataframe thead th {\n",
       "        text-align: right;\n",
       "    }\n",
       "</style>\n",
       "<table border=\"1\" class=\"dataframe\">\n",
       "  <thead>\n",
       "    <tr style=\"text-align: right;\">\n",
       "      <th></th>\n",
       "      <th>sl_no</th>\n",
       "      <th>gender</th>\n",
       "      <th>ssc_p</th>\n",
       "      <th>ssc_b</th>\n",
       "      <th>hsc_p</th>\n",
       "      <th>hsc_b</th>\n",
       "      <th>hsc_s</th>\n",
       "      <th>degree_p</th>\n",
       "      <th>degree_t</th>\n",
       "      <th>workex</th>\n",
       "      <th>etest_p</th>\n",
       "      <th>specialisation</th>\n",
       "      <th>mba_p</th>\n",
       "      <th>status</th>\n",
       "      <th>salary</th>\n",
       "    </tr>\n",
       "  </thead>\n",
       "  <tbody>\n",
       "    <tr>\n",
       "      <th>0</th>\n",
       "      <td>1</td>\n",
       "      <td>0</td>\n",
       "      <td>67.00</td>\n",
       "      <td>0</td>\n",
       "      <td>91.00</td>\n",
       "      <td>0</td>\n",
       "      <td>0</td>\n",
       "      <td>58.00</td>\n",
       "      <td>1</td>\n",
       "      <td>0</td>\n",
       "      <td>55.0</td>\n",
       "      <td>1</td>\n",
       "      <td>58.80</td>\n",
       "      <td>1</td>\n",
       "      <td>270000.000000</td>\n",
       "    </tr>\n",
       "    <tr>\n",
       "      <th>1</th>\n",
       "      <td>2</td>\n",
       "      <td>0</td>\n",
       "      <td>79.33</td>\n",
       "      <td>1</td>\n",
       "      <td>78.33</td>\n",
       "      <td>0</td>\n",
       "      <td>1</td>\n",
       "      <td>77.48</td>\n",
       "      <td>1</td>\n",
       "      <td>1</td>\n",
       "      <td>86.5</td>\n",
       "      <td>0</td>\n",
       "      <td>66.28</td>\n",
       "      <td>1</td>\n",
       "      <td>200000.000000</td>\n",
       "    </tr>\n",
       "    <tr>\n",
       "      <th>2</th>\n",
       "      <td>3</td>\n",
       "      <td>0</td>\n",
       "      <td>65.00</td>\n",
       "      <td>1</td>\n",
       "      <td>68.00</td>\n",
       "      <td>1</td>\n",
       "      <td>2</td>\n",
       "      <td>64.00</td>\n",
       "      <td>0</td>\n",
       "      <td>0</td>\n",
       "      <td>75.0</td>\n",
       "      <td>0</td>\n",
       "      <td>57.80</td>\n",
       "      <td>1</td>\n",
       "      <td>250000.000000</td>\n",
       "    </tr>\n",
       "    <tr>\n",
       "      <th>3</th>\n",
       "      <td>4</td>\n",
       "      <td>0</td>\n",
       "      <td>56.00</td>\n",
       "      <td>1</td>\n",
       "      <td>52.00</td>\n",
       "      <td>1</td>\n",
       "      <td>1</td>\n",
       "      <td>52.00</td>\n",
       "      <td>1</td>\n",
       "      <td>0</td>\n",
       "      <td>66.0</td>\n",
       "      <td>1</td>\n",
       "      <td>59.43</td>\n",
       "      <td>0</td>\n",
       "      <td>288655.405405</td>\n",
       "    </tr>\n",
       "    <tr>\n",
       "      <th>4</th>\n",
       "      <td>5</td>\n",
       "      <td>0</td>\n",
       "      <td>85.80</td>\n",
       "      <td>1</td>\n",
       "      <td>73.60</td>\n",
       "      <td>1</td>\n",
       "      <td>0</td>\n",
       "      <td>73.30</td>\n",
       "      <td>0</td>\n",
       "      <td>0</td>\n",
       "      <td>96.8</td>\n",
       "      <td>0</td>\n",
       "      <td>55.50</td>\n",
       "      <td>1</td>\n",
       "      <td>425000.000000</td>\n",
       "    </tr>\n",
       "  </tbody>\n",
       "</table>\n",
       "</div>"
      ],
      "text/plain": [
       "   sl_no  gender  ssc_p  ssc_b  hsc_p  hsc_b  hsc_s  degree_p  degree_t  \\\n",
       "0      1       0  67.00      0  91.00      0      0     58.00         1   \n",
       "1      2       0  79.33      1  78.33      0      1     77.48         1   \n",
       "2      3       0  65.00      1  68.00      1      2     64.00         0   \n",
       "3      4       0  56.00      1  52.00      1      1     52.00         1   \n",
       "4      5       0  85.80      1  73.60      1      0     73.30         0   \n",
       "\n",
       "   workex  etest_p  specialisation  mba_p  status         salary  \n",
       "0       0     55.0               1  58.80       1  270000.000000  \n",
       "1       1     86.5               0  66.28       1  200000.000000  \n",
       "2       0     75.0               0  57.80       1  250000.000000  \n",
       "3       0     66.0               1  59.43       0  288655.405405  \n",
       "4       0     96.8               0  55.50       1  425000.000000  "
      ]
     },
     "execution_count": 7,
     "metadata": {},
     "output_type": "execute_result"
    }
   ],
   "source": [
    "df.head()"
   ]
  },
  {
   "cell_type": "code",
   "execution_count": 8,
   "id": "b2b0d8fc",
   "metadata": {},
   "outputs": [],
   "source": [
    "df.drop(columns=['sl_no'], inplace=True)"
   ]
  },
  {
   "cell_type": "code",
   "execution_count": 9,
   "id": "48276d9a",
   "metadata": {},
   "outputs": [
    {
     "data": {
      "text/html": [
       "<div>\n",
       "<style scoped>\n",
       "    .dataframe tbody tr th:only-of-type {\n",
       "        vertical-align: middle;\n",
       "    }\n",
       "\n",
       "    .dataframe tbody tr th {\n",
       "        vertical-align: top;\n",
       "    }\n",
       "\n",
       "    .dataframe thead th {\n",
       "        text-align: right;\n",
       "    }\n",
       "</style>\n",
       "<table border=\"1\" class=\"dataframe\">\n",
       "  <thead>\n",
       "    <tr style=\"text-align: right;\">\n",
       "      <th></th>\n",
       "      <th>gender</th>\n",
       "      <th>ssc_p</th>\n",
       "      <th>ssc_b</th>\n",
       "      <th>hsc_p</th>\n",
       "      <th>hsc_b</th>\n",
       "      <th>hsc_s</th>\n",
       "      <th>degree_p</th>\n",
       "      <th>degree_t</th>\n",
       "      <th>workex</th>\n",
       "      <th>etest_p</th>\n",
       "      <th>specialisation</th>\n",
       "      <th>mba_p</th>\n",
       "      <th>status</th>\n",
       "      <th>salary</th>\n",
       "    </tr>\n",
       "  </thead>\n",
       "  <tbody>\n",
       "    <tr>\n",
       "      <th>0</th>\n",
       "      <td>0</td>\n",
       "      <td>67.00</td>\n",
       "      <td>0</td>\n",
       "      <td>91.00</td>\n",
       "      <td>0</td>\n",
       "      <td>0</td>\n",
       "      <td>58.00</td>\n",
       "      <td>1</td>\n",
       "      <td>0</td>\n",
       "      <td>55.0</td>\n",
       "      <td>1</td>\n",
       "      <td>58.80</td>\n",
       "      <td>1</td>\n",
       "      <td>270000.000000</td>\n",
       "    </tr>\n",
       "    <tr>\n",
       "      <th>1</th>\n",
       "      <td>0</td>\n",
       "      <td>79.33</td>\n",
       "      <td>1</td>\n",
       "      <td>78.33</td>\n",
       "      <td>0</td>\n",
       "      <td>1</td>\n",
       "      <td>77.48</td>\n",
       "      <td>1</td>\n",
       "      <td>1</td>\n",
       "      <td>86.5</td>\n",
       "      <td>0</td>\n",
       "      <td>66.28</td>\n",
       "      <td>1</td>\n",
       "      <td>200000.000000</td>\n",
       "    </tr>\n",
       "    <tr>\n",
       "      <th>2</th>\n",
       "      <td>0</td>\n",
       "      <td>65.00</td>\n",
       "      <td>1</td>\n",
       "      <td>68.00</td>\n",
       "      <td>1</td>\n",
       "      <td>2</td>\n",
       "      <td>64.00</td>\n",
       "      <td>0</td>\n",
       "      <td>0</td>\n",
       "      <td>75.0</td>\n",
       "      <td>0</td>\n",
       "      <td>57.80</td>\n",
       "      <td>1</td>\n",
       "      <td>250000.000000</td>\n",
       "    </tr>\n",
       "    <tr>\n",
       "      <th>3</th>\n",
       "      <td>0</td>\n",
       "      <td>56.00</td>\n",
       "      <td>1</td>\n",
       "      <td>52.00</td>\n",
       "      <td>1</td>\n",
       "      <td>1</td>\n",
       "      <td>52.00</td>\n",
       "      <td>1</td>\n",
       "      <td>0</td>\n",
       "      <td>66.0</td>\n",
       "      <td>1</td>\n",
       "      <td>59.43</td>\n",
       "      <td>0</td>\n",
       "      <td>288655.405405</td>\n",
       "    </tr>\n",
       "    <tr>\n",
       "      <th>4</th>\n",
       "      <td>0</td>\n",
       "      <td>85.80</td>\n",
       "      <td>1</td>\n",
       "      <td>73.60</td>\n",
       "      <td>1</td>\n",
       "      <td>0</td>\n",
       "      <td>73.30</td>\n",
       "      <td>0</td>\n",
       "      <td>0</td>\n",
       "      <td>96.8</td>\n",
       "      <td>0</td>\n",
       "      <td>55.50</td>\n",
       "      <td>1</td>\n",
       "      <td>425000.000000</td>\n",
       "    </tr>\n",
       "  </tbody>\n",
       "</table>\n",
       "</div>"
      ],
      "text/plain": [
       "   gender  ssc_p  ssc_b  hsc_p  hsc_b  hsc_s  degree_p  degree_t  workex  \\\n",
       "0       0  67.00      0  91.00      0      0     58.00         1       0   \n",
       "1       0  79.33      1  78.33      0      1     77.48         1       1   \n",
       "2       0  65.00      1  68.00      1      2     64.00         0       0   \n",
       "3       0  56.00      1  52.00      1      1     52.00         1       0   \n",
       "4       0  85.80      1  73.60      1      0     73.30         0       0   \n",
       "\n",
       "   etest_p  specialisation  mba_p  status         salary  \n",
       "0     55.0               1  58.80       1  270000.000000  \n",
       "1     86.5               0  66.28       1  200000.000000  \n",
       "2     75.0               0  57.80       1  250000.000000  \n",
       "3     66.0               1  59.43       0  288655.405405  \n",
       "4     96.8               0  55.50       1  425000.000000  "
      ]
     },
     "execution_count": 9,
     "metadata": {},
     "output_type": "execute_result"
    }
   ],
   "source": [
    "df.head()"
   ]
  },
  {
   "cell_type": "code",
   "execution_count": 10,
   "id": "b26332fd",
   "metadata": {},
   "outputs": [],
   "source": [
    "from sklearn.tree import DecisionTreeClassifier"
   ]
  },
  {
   "cell_type": "code",
   "execution_count": 11,
   "id": "8795a77c",
   "metadata": {},
   "outputs": [],
   "source": [
    "model = DecisionTreeClassifier()"
   ]
  },
  {
   "cell_type": "code",
   "execution_count": 12,
   "id": "7035865a",
   "metadata": {},
   "outputs": [],
   "source": [
    "from sklearn.model_selection import train_test_split"
   ]
  },
  {
   "cell_type": "code",
   "execution_count": 13,
   "id": "670b971c",
   "metadata": {},
   "outputs": [],
   "source": [
    "X = df.drop(columns=['status'], axis=1)\n",
    "y = df['status']"
   ]
  },
  {
   "cell_type": "code",
   "execution_count": 15,
   "id": "a87c99d6",
   "metadata": {},
   "outputs": [
    {
     "data": {
      "text/plain": [
       "DecisionTreeClassifier()"
      ]
     },
     "execution_count": 15,
     "metadata": {},
     "output_type": "execute_result"
    }
   ],
   "source": [
    "model.fit(X,y)"
   ]
  },
  {
   "cell_type": "code",
   "execution_count": 17,
   "id": "a733b86a",
   "metadata": {},
   "outputs": [],
   "source": [
    "importance = model.feature_importances_"
   ]
  },
  {
   "cell_type": "code",
   "execution_count": 19,
   "id": "f4d98ccd",
   "metadata": {},
   "outputs": [
    {
     "name": "stdout",
     "output_type": "stream",
     "text": [
      "Feature: 0, Score: 0.00000\n",
      "Feature: 1, Score: 0.00000\n",
      "Feature: 2, Score: 0.00000\n",
      "Feature: 3, Score: 0.00000\n",
      "Feature: 4, Score: 0.00000\n",
      "Feature: 5, Score: 0.00000\n",
      "Feature: 6, Score: 0.00000\n",
      "Feature: 7, Score: 0.00000\n",
      "Feature: 8, Score: 0.00000\n",
      "Feature: 9, Score: 0.00000\n",
      "Feature: 10, Score: 0.00000\n",
      "Feature: 11, Score: 0.00000\n",
      "Feature: 12, Score: 1.00000\n"
     ]
    },
    {
     "data": {
      "image/png": "[encoded data removed]",
      "text/plain": [
       "<Figure size 432x288 with 1 Axes>"
      ]
     },
     "metadata": {
      "needs_background": "light"
     },
     "output_type": "display_data"
    }
   ],
   "source": [
    "for i,v in enumerate(importance):\n",
    "\tprint('Feature: %0d, Score: %.5f' % (i,v))\n",
    "# plot feature importance\n",
    "plt.bar([x for x in range(len(importance))], importance)\n",
    "plt.show()"
   ]
  },
  {
   "cell_type": "code",
   "execution_count": 23,
   "id": "a012c438",
   "metadata": {},
   "outputs": [],
   "source": [
    "from xgboost import XGBClassifier\n",
    "model = XGBClassifier()\n",
    "model.fit(X, y)\n",
    "importances = pd.DataFrame(data={\n",
    "    'Attribute': X.columns,\n",
    "    'Importance': model.feature_importances_\n",
    "})\n",
    "importances = importances.sort_values(by='Importance', ascending=False)"
   ]
  },
  {
   "cell_type": "code",
   "execution_count": 24,
   "id": "cb138d6e",
   "metadata": {},
   "outputs": [
    {
     "data": {
      "image/png": "[encoded data removed]",
      "text/plain": [
       "<Figure size 432x288 with 1 Axes>"
      ]
     },
     "metadata": {
      "needs_background": "light"
     },
     "output_type": "display_data"
    }
   ],
   "source": [
    "plt.bar(x=importances['Attribute'], height=importances['Importance'], color='#087E8B')\n",
    "plt.title('Feature importances obtained from coefficients', size=20)\n",
    "plt.xticks(rotation='vertical')\n",
    "plt.show()"
   ]
  },
  {
   "cell_type": "code",
   "execution_count": 25,
   "id": "47365ea3",
   "metadata": {},
   "outputs": [
    {
     "data": {
      "text/html": [
       "<div>\n",
       "<style scoped>\n",
       "    .dataframe tbody tr th:only-of-type {\n",
       "        vertical-align: middle;\n",
       "    }\n",
       "\n",
       "    .dataframe tbody tr th {\n",
       "        vertical-align: top;\n",
       "    }\n",
       "\n",
       "    .dataframe thead th {\n",
       "        text-align: right;\n",
       "    }\n",
       "</style>\n",
       "<table border=\"1\" class=\"dataframe\">\n",
       "  <thead>\n",
       "    <tr style=\"text-align: right;\">\n",
       "      <th></th>\n",
       "      <th>gender</th>\n",
       "      <th>ssc_p</th>\n",
       "      <th>ssc_b</th>\n",
       "      <th>hsc_p</th>\n",
       "      <th>hsc_b</th>\n",
       "      <th>hsc_s</th>\n",
       "      <th>degree_p</th>\n",
       "      <th>degree_t</th>\n",
       "      <th>workex</th>\n",
       "      <th>etest_p</th>\n",
       "      <th>specialisation</th>\n",
       "      <th>mba_p</th>\n",
       "      <th>salary</th>\n",
       "    </tr>\n",
       "  </thead>\n",
       "  <tbody>\n",
       "    <tr>\n",
       "      <th>0</th>\n",
       "      <td>0</td>\n",
       "      <td>67.00</td>\n",
       "      <td>0</td>\n",
       "      <td>91.00</td>\n",
       "      <td>0</td>\n",
       "      <td>0</td>\n",
       "      <td>58.00</td>\n",
       "      <td>1</td>\n",
       "      <td>0</td>\n",
       "      <td>55.0</td>\n",
       "      <td>1</td>\n",
       "      <td>58.80</td>\n",
       "      <td>270000.000000</td>\n",
       "    </tr>\n",
       "    <tr>\n",
       "      <th>1</th>\n",
       "      <td>0</td>\n",
       "      <td>79.33</td>\n",
       "      <td>1</td>\n",
       "      <td>78.33</td>\n",
       "      <td>0</td>\n",
       "      <td>1</td>\n",
       "      <td>77.48</td>\n",
       "      <td>1</td>\n",
       "      <td>1</td>\n",
       "      <td>86.5</td>\n",
       "      <td>0</td>\n",
       "      <td>66.28</td>\n",
       "      <td>200000.000000</td>\n",
       "    </tr>\n",
       "    <tr>\n",
       "      <th>2</th>\n",
       "      <td>0</td>\n",
       "      <td>65.00</td>\n",
       "      <td>1</td>\n",
       "      <td>68.00</td>\n",
       "      <td>1</td>\n",
       "      <td>2</td>\n",
       "      <td>64.00</td>\n",
       "      <td>0</td>\n",
       "      <td>0</td>\n",
       "      <td>75.0</td>\n",
       "      <td>0</td>\n",
       "      <td>57.80</td>\n",
       "      <td>250000.000000</td>\n",
       "    </tr>\n",
       "    <tr>\n",
       "      <th>3</th>\n",
       "      <td>0</td>\n",
       "      <td>56.00</td>\n",
       "      <td>1</td>\n",
       "      <td>52.00</td>\n",
       "      <td>1</td>\n",
       "      <td>1</td>\n",
       "      <td>52.00</td>\n",
       "      <td>1</td>\n",
       "      <td>0</td>\n",
       "      <td>66.0</td>\n",
       "      <td>1</td>\n",
       "      <td>59.43</td>\n",
       "      <td>288655.405405</td>\n",
       "    </tr>\n",
       "    <tr>\n",
       "      <th>4</th>\n",
       "      <td>0</td>\n",
       "      <td>85.80</td>\n",
       "      <td>1</td>\n",
       "      <td>73.60</td>\n",
       "      <td>1</td>\n",
       "      <td>0</td>\n",
       "      <td>73.30</td>\n",
       "      <td>0</td>\n",
       "      <td>0</td>\n",
       "      <td>96.8</td>\n",
       "      <td>0</td>\n",
       "      <td>55.50</td>\n",
       "      <td>425000.000000</td>\n",
       "    </tr>\n",
       "    <tr>\n",
       "      <th>...</th>\n",
       "      <td>...</td>\n",
       "      <td>...</td>\n",
       "      <td>...</td>\n",
       "      <td>...</td>\n",
       "      <td>...</td>\n",
       "      <td>...</td>\n",
       "      <td>...</td>\n",
       "      <td>...</td>\n",
       "      <td>...</td>\n",
       "      <td>...</td>\n",
       "      <td>...</td>\n",
       "      <td>...</td>\n",
       "      <td>...</td>\n",
       "    </tr>\n",
       "    <tr>\n",
       "      <th>210</th>\n",
       "      <td>0</td>\n",
       "      <td>80.60</td>\n",
       "      <td>0</td>\n",
       "      <td>82.00</td>\n",
       "      <td>0</td>\n",
       "      <td>0</td>\n",
       "      <td>77.60</td>\n",
       "      <td>0</td>\n",
       "      <td>0</td>\n",
       "      <td>91.0</td>\n",
       "      <td>0</td>\n",
       "      <td>74.49</td>\n",
       "      <td>400000.000000</td>\n",
       "    </tr>\n",
       "    <tr>\n",
       "      <th>211</th>\n",
       "      <td>0</td>\n",
       "      <td>58.00</td>\n",
       "      <td>0</td>\n",
       "      <td>60.00</td>\n",
       "      <td>0</td>\n",
       "      <td>1</td>\n",
       "      <td>72.00</td>\n",
       "      <td>1</td>\n",
       "      <td>0</td>\n",
       "      <td>74.0</td>\n",
       "      <td>0</td>\n",
       "      <td>53.62</td>\n",
       "      <td>275000.000000</td>\n",
       "    </tr>\n",
       "    <tr>\n",
       "      <th>212</th>\n",
       "      <td>0</td>\n",
       "      <td>67.00</td>\n",
       "      <td>0</td>\n",
       "      <td>67.00</td>\n",
       "      <td>0</td>\n",
       "      <td>0</td>\n",
       "      <td>73.00</td>\n",
       "      <td>0</td>\n",
       "      <td>1</td>\n",
       "      <td>59.0</td>\n",
       "      <td>0</td>\n",
       "      <td>69.72</td>\n",
       "      <td>295000.000000</td>\n",
       "    </tr>\n",
       "    <tr>\n",
       "      <th>213</th>\n",
       "      <td>1</td>\n",
       "      <td>74.00</td>\n",
       "      <td>0</td>\n",
       "      <td>66.00</td>\n",
       "      <td>0</td>\n",
       "      <td>0</td>\n",
       "      <td>58.00</td>\n",
       "      <td>0</td>\n",
       "      <td>0</td>\n",
       "      <td>70.0</td>\n",
       "      <td>1</td>\n",
       "      <td>60.23</td>\n",
       "      <td>204000.000000</td>\n",
       "    </tr>\n",
       "    <tr>\n",
       "      <th>214</th>\n",
       "      <td>0</td>\n",
       "      <td>62.00</td>\n",
       "      <td>1</td>\n",
       "      <td>58.00</td>\n",
       "      <td>0</td>\n",
       "      <td>1</td>\n",
       "      <td>53.00</td>\n",
       "      <td>0</td>\n",
       "      <td>0</td>\n",
       "      <td>89.0</td>\n",
       "      <td>1</td>\n",
       "      <td>60.22</td>\n",
       "      <td>288655.405405</td>\n",
       "    </tr>\n",
       "  </tbody>\n",
       "</table>\n",
       "<p>215 rows × 13 columns</p>\n",
       "</div>"
      ],
      "text/plain": [
       "     gender  ssc_p  ssc_b  hsc_p  hsc_b  hsc_s  degree_p  degree_t  workex  \\\n",
       "0         0  67.00      0  91.00      0      0     58.00         1       0   \n",
       "1         0  79.33      1  78.33      0      1     77.48         1       1   \n",
       "2         0  65.00      1  68.00      1      2     64.00         0       0   \n",
       "3         0  56.00      1  52.00      1      1     52.00         1       0   \n",
       "4         0  85.80      1  73.60      1      0     73.30         0       0   \n",
       "..      ...    ...    ...    ...    ...    ...       ...       ...     ...   \n",
       "210       0  80.60      0  82.00      0      0     77.60         0       0   \n",
       "211       0  58.00      0  60.00      0      1     72.00         1       0   \n",
       "212       0  67.00      0  67.00      0      0     73.00         0       1   \n",
       "213       1  74.00      0  66.00      0      0     58.00         0       0   \n",
       "214       0  62.00      1  58.00      0      1     53.00         0       0   \n",
       "\n",
       "     etest_p  specialisation  mba_p         salary  \n",
       "0       55.0               1  58.80  270000.000000  \n",
       "1       86.5               0  66.28  200000.000000  \n",
       "2       75.0               0  57.80  250000.000000  \n",
       "3       66.0               1  59.43  288655.405405  \n",
       "4       96.8               0  55.50  425000.000000  \n",
       "..       ...             ...    ...            ...  \n",
       "210     91.0               0  74.49  400000.000000  \n",
       "211     74.0               0  53.62  275000.000000  \n",
       "212     59.0               0  69.72  295000.000000  \n",
       "213     70.0               1  60.23  204000.000000  \n",
       "214     89.0               1  60.22  288655.405405  \n",
       "\n",
       "[215 rows x 13 columns]"
      ]
     },
     "execution_count": 25,
     "metadata": {},
     "output_type": "execute_result"
    }
   ],
   "source": [
    "X"
   ]
  },
  {
   "cell_type": "code",
   "execution_count": 26,
   "id": "bafa7074",
   "metadata": {},
   "outputs": [
    {
     "data": {
      "text/plain": [
       "0      270000.000000\n",
       "1      200000.000000\n",
       "2      250000.000000\n",
       "3      288655.405405\n",
       "4      425000.000000\n",
       "           ...      \n",
       "210    400000.000000\n",
       "211    275000.000000\n",
       "212    295000.000000\n",
       "213    204000.000000\n",
       "214    288655.405405\n",
       "Name: salary, Length: 215, dtype: float64"
      ]
     },
     "execution_count": 26,
     "metadata": {},
     "output_type": "execute_result"
    }
   ],
   "source": [
    "X['salary']"
   ]
  },
  {
   "cell_type": "code",
   "execution_count": 27,
   "id": "acbbfb2c",
   "metadata": {},
   "outputs": [
    {
     "data": {
      "text/plain": [
       "0      1\n",
       "1      1\n",
       "2      1\n",
       "3      0\n",
       "4      1\n",
       "      ..\n",
       "210    1\n",
       "211    1\n",
       "212    1\n",
       "213    1\n",
       "214    0\n",
       "Name: status, Length: 215, dtype: int64"
      ]
     },
     "execution_count": 27,
     "metadata": {},
     "output_type": "execute_result"
    }
   ],
   "source": [
    "y"
   ]
  },
  {
   "cell_type": "code",
   "execution_count": 34,
   "id": "2cab5723",
   "metadata": {},
   "outputs": [],
   "source": [
    "from sklearn.preprocessing import StandardScaler"
   ]
  },
  {
   "cell_type": "code",
   "execution_count": 46,
   "id": "8db4c260",
   "metadata": {},
   "outputs": [],
   "source": [
    "scaler = StandardScaler()"
   ]
  },
  {
   "cell_type": "code",
   "execution_count": 78,
   "id": "c5da55cf",
   "metadata": {},
   "outputs": [],
   "source": [
    "X_new = X[['salary','ssc_p','degree_p','ssc_p']]\n",
    "X_train, X_test, y_train, y_test = train_test_split(X_new,y,test_size=0.3)"
   ]
  },
  {
   "cell_type": "code",
   "execution_count": 79,
   "id": "caaf22f5",
   "metadata": {},
   "outputs": [
    {
     "data": {
      "text/html": [
       "<div>\n",
       "<style scoped>\n",
       "    .dataframe tbody tr th:only-of-type {\n",
       "        vertical-align: middle;\n",
       "    }\n",
       "\n",
       "    .dataframe tbody tr th {\n",
       "        vertical-align: top;\n",
       "    }\n",
       "\n",
       "    .dataframe thead th {\n",
       "        text-align: right;\n",
       "    }\n",
       "</style>\n",
       "<table border=\"1\" class=\"dataframe\">\n",
       "  <thead>\n",
       "    <tr style=\"text-align: right;\">\n",
       "      <th></th>\n",
       "      <th>salary</th>\n",
       "      <th>ssc_p</th>\n",
       "      <th>degree_p</th>\n",
       "      <th>ssc_p</th>\n",
       "    </tr>\n",
       "  </thead>\n",
       "  <tbody>\n",
       "    <tr>\n",
       "      <th>71</th>\n",
       "      <td>240000.000000</td>\n",
       "      <td>75.0</td>\n",
       "      <td>71.00</td>\n",
       "      <td>75.0</td>\n",
       "    </tr>\n",
       "    <tr>\n",
       "      <th>86</th>\n",
       "      <td>220000.000000</td>\n",
       "      <td>62.0</td>\n",
       "      <td>64.00</td>\n",
       "      <td>62.0</td>\n",
       "    </tr>\n",
       "    <tr>\n",
       "      <th>29</th>\n",
       "      <td>288655.405405</td>\n",
       "      <td>62.0</td>\n",
       "      <td>58.00</td>\n",
       "      <td>62.0</td>\n",
       "    </tr>\n",
       "    <tr>\n",
       "      <th>59</th>\n",
       "      <td>265000.000000</td>\n",
       "      <td>52.6</td>\n",
       "      <td>72.11</td>\n",
       "      <td>52.6</td>\n",
       "    </tr>\n",
       "    <tr>\n",
       "      <th>116</th>\n",
       "      <td>300000.000000</td>\n",
       "      <td>68.2</td>\n",
       "      <td>66.60</td>\n",
       "      <td>68.2</td>\n",
       "    </tr>\n",
       "    <tr>\n",
       "      <th>...</th>\n",
       "      <td>...</td>\n",
       "      <td>...</td>\n",
       "      <td>...</td>\n",
       "      <td>...</td>\n",
       "    </tr>\n",
       "    <tr>\n",
       "      <th>10</th>\n",
       "      <td>260000.000000</td>\n",
       "      <td>58.0</td>\n",
       "      <td>60.00</td>\n",
       "      <td>58.0</td>\n",
       "    </tr>\n",
       "    <tr>\n",
       "      <th>144</th>\n",
       "      <td>288655.405405</td>\n",
       "      <td>52.0</td>\n",
       "      <td>61.00</td>\n",
       "      <td>52.0</td>\n",
       "    </tr>\n",
       "    <tr>\n",
       "      <th>68</th>\n",
       "      <td>288655.405405</td>\n",
       "      <td>69.7</td>\n",
       "      <td>72.70</td>\n",
       "      <td>69.7</td>\n",
       "    </tr>\n",
       "    <tr>\n",
       "      <th>100</th>\n",
       "      <td>288655.405405</td>\n",
       "      <td>45.0</td>\n",
       "      <td>58.00</td>\n",
       "      <td>45.0</td>\n",
       "    </tr>\n",
       "    <tr>\n",
       "      <th>54</th>\n",
       "      <td>216000.000000</td>\n",
       "      <td>74.0</td>\n",
       "      <td>69.00</td>\n",
       "      <td>74.0</td>\n",
       "    </tr>\n",
       "  </tbody>\n",
       "</table>\n",
       "<p>150 rows × 4 columns</p>\n",
       "</div>"
      ],
      "text/plain": [
       "            salary  ssc_p  degree_p  ssc_p\n",
       "71   240000.000000   75.0     71.00   75.0\n",
       "86   220000.000000   62.0     64.00   62.0\n",
       "29   288655.405405   62.0     58.00   62.0\n",
       "59   265000.000000   52.6     72.11   52.6\n",
       "116  300000.000000   68.2     66.60   68.2\n",
       "..             ...    ...       ...    ...\n",
       "10   260000.000000   58.0     60.00   58.0\n",
       "144  288655.405405   52.0     61.00   52.0\n",
       "68   288655.405405   69.7     72.70   69.7\n",
       "100  288655.405405   45.0     58.00   45.0\n",
       "54   216000.000000   74.0     69.00   74.0\n",
       "\n",
       "[150 rows x 4 columns]"
      ]
     },
     "execution_count": 79,
     "metadata": {},
     "output_type": "execute_result"
    }
   ],
   "source": [
    "X_train"
   ]
  },
  {
   "cell_type": "code",
   "execution_count": 80,
   "id": "13229d1e",
   "metadata": {},
   "outputs": [],
   "source": [
    "# X_train = scaler.fit_transform(np.array(X_train).reshape(-1,1))\n",
    "# X_test = scaler.transform(np.array(X_test).reshape(-1,1))\n",
    "X_train = scaler.fit_transform(X_train)\n",
    "X_test = scaler.transform(X_test)"
   ]
  },
  {
   "cell_type": "code",
   "execution_count": 81,
   "id": "03a1a87a",
   "metadata": {},
   "outputs": [
    {
     "data": {
      "text/plain": [
       "array([[-5.76924020e-01,  6.96347956e-01,  6.08472574e-01,\n",
       "         6.96347956e-01],\n",
       "       [-8.11166538e-01, -5.41271113e-01, -3.40641595e-01,\n",
       "        -5.41271113e-01],\n",
       "       [-7.06578837e-03, -5.41271113e-01, -1.15416803e+00,\n",
       "        -5.41271113e-01],\n",
       "       [-2.84120874e-01, -1.43616490e+00,  7.58974964e-01,\n",
       "        -1.43616490e+00],\n",
       "       [ 1.25803531e-01,  4.89779813e-02,  1.18865251e-02,\n",
       "         4.89779813e-02],\n",
       "       [-7.06578837e-03, -2.06449458e+00,  1.69317448e+00,\n",
       "        -2.06449458e+00],\n",
       "       [-5.76924020e-01,  8.86750890e-01, -1.42534350e+00,\n",
       "         8.86750890e-01],\n",
       "       [-7.52605908e-01, -6.52637789e-02,  7.44060312e-01,\n",
       "        -6.52637789e-02],\n",
       "       [-4.59802762e-01,  5.05945022e-01,  1.42199900e+00,\n",
       "         5.05945022e-01],\n",
       "       [-1.66999615e-01,  5.05945022e-01, -6.94661180e-02,\n",
       "         5.05945022e-01],\n",
       "       [-4.59802762e-01, -4.46069647e-01,  2.01709359e-01,\n",
       "        -4.46069647e-01],\n",
       "       [ 4.22504758e+00,  5.05945022e-01,  1.69317448e+00,\n",
       "         5.05945022e-01],\n",
       "       [ 1.53125864e+00,  5.05945022e-01, -2.05053856e-01,\n",
       "         5.05945022e-01],\n",
       "       [-4.59802762e-01,  9.28639535e-01,  7.44060312e-01,\n",
       "         9.28639535e-01],\n",
       "       [-7.06578837e-03, -1.60465246e-01, -8.82992548e-01,\n",
       "        -1.60465246e-01],\n",
       "       [-4.59802762e-01, -3.50868180e-01,  4.18649740e-01,\n",
       "        -3.50868180e-01],\n",
       "       [-7.06578837e-03, -5.41271113e-01, -1.83210672e+00,\n",
       "        -5.41271113e-01],\n",
       "       [-4.59802762e-01,  8.58190450e-01, -6.94661180e-02,\n",
       "         8.58190450e-01],\n",
       "       [-2.84120874e-01, -4.46069647e-01, -6.94661180e-02,\n",
       "        -4.46069647e-01],\n",
       "       [-4.59802762e-01, -2.55666713e-01, -3.40641595e-01,\n",
       "        -2.55666713e-01],\n",
       "       [-7.06578837e-03, -1.53422241e+00, -8.96551322e-01,\n",
       "        -1.53422241e+00],\n",
       "       [-3.42681503e-01, -1.14294438e+00, -1.30738217e+00,\n",
       "        -1.14294438e+00],\n",
       "       [-9.98560552e-01,  6.01146489e-01, -1.15416803e+00,\n",
       "         6.01146489e-01],\n",
       "       [-2.25560245e-01, -2.55666713e-01,  1.15082353e+00,\n",
       "        -2.55666713e-01],\n",
       "       [-7.06578837e-03, -1.20768138e+00,  1.00018555e-01,\n",
       "        -1.20768138e+00],\n",
       "       [-2.84120874e-01,  1.25139155e-01, -1.28975576e+00,\n",
       "         1.25139155e-01],\n",
       "       [ 1.25803531e-01,  2.20340622e-01,  4.72884836e-01,\n",
       "         2.20340622e-01],\n",
       "       [ 7.11409825e-01,  1.55316116e+00,  8.79648051e-01,\n",
       "         1.55316116e+00],\n",
       "       [-1.04540906e+00,  7.15388250e-01,  2.55944454e-01,\n",
       "         7.15388250e-01],\n",
       "       [-5.76924020e-01,  7.34428543e-01,  2.37111317e+00,\n",
       "         7.34428543e-01],\n",
       "       [-9.98560552e-01, -4.46069647e-01, -1.28975576e+00,\n",
       "        -4.46069647e-01],\n",
       "       [-7.06578837e-03, -1.87409165e+00, -1.15416803e+00,\n",
       "        -1.87409165e+00],\n",
       "       [-6.58908902e-01, -5.41271113e-01, -6.94661180e-02,\n",
       "        -5.41271113e-01],\n",
       "       [-4.59802762e-01, -5.00315442e-02, -4.28773625e-01,\n",
       "        -5.00315442e-02],\n",
       "       [ 6.72429021e-02, -6.52637789e-02,  8.79648051e-01,\n",
       "        -6.52637789e-02],\n",
       "       [-1.08438986e-01,  1.02955309e+00,  6.61216204e-02,\n",
       "         1.02955309e+00],\n",
       "       [ 7.62156409e+00, -6.55512874e-01, -2.59288952e-01,\n",
       "        -6.55512874e-01],\n",
       "       [-5.76924020e-01,  1.79116483e+00,  1.20356716e-01,\n",
       "         1.79116483e+00],\n",
       "       [-7.06578837e-03,  2.67941355e-01, -7.47404810e-01,\n",
       "         2.67941355e-01],\n",
       "       [-7.06578837e-03, -7.69754634e-01, -8.82992548e-01,\n",
       "        -7.69754634e-01],\n",
       "       [-7.06578837e-03, -2.25489752e+00, -1.56093124e+00,\n",
       "        -2.25489752e+00],\n",
       "       [ 1.29701612e+00,  1.53792892e+00,  1.44911655e+00,\n",
       "         1.53792892e+00],\n",
       "       [-7.06578837e-03, -1.58848725e+00, -1.28975576e+00,\n",
       "        -1.58848725e+00],\n",
       "       [-4.59802762e-01,  1.72739888e-01,  7.44060312e-01,\n",
       "         1.72739888e-01],\n",
       "       [ 7.11409825e-01,  2.99376880e-02,  2.01709359e-01,\n",
       "         2.99376880e-02],\n",
       "       [-8.11166538e-01, -8.26875514e-01, -1.42534350e+00,\n",
       "        -8.26875514e-01],\n",
       "       [-7.06578837e-03, -1.43806893e+00, -2.21175238e+00,\n",
       "        -1.43806893e+00],\n",
       "       [-2.48984496e-01,  6.01146489e-01,  2.01709359e-01,\n",
       "         6.01146489e-01],\n",
       "       [ 8.28531083e-01,  8.39150157e-01,  1.67419220e+00,\n",
       "         8.39150157e-01],\n",
       "       [-7.06578837e-03, -8.26875514e-01, -1.15416803e+00,\n",
       "        -8.26875514e-01],\n",
       "       [-7.06578837e-03, -6.52637789e-02, -3.40641595e-01,\n",
       "        -6.52637789e-02],\n",
       "       [-7.06578837e-03, -1.30288285e+00, -1.28975576e+00,\n",
       "        -1.30288285e+00],\n",
       "       [-7.06578837e-03, -1.30288285e+00, -4.76229333e-01,\n",
       "        -1.30288285e+00],\n",
       "       [ 8.28531083e-01,  2.01300328e-01,  7.75245492e-01,\n",
       "         2.01300328e-01],\n",
       "       [-7.06578837e-03,  2.04175413e-02,  6.61216204e-02,\n",
       "         2.04175413e-02],\n",
       "       [-9.28287796e-01, -1.60465246e-01,  8.79648051e-01,\n",
       "        -1.60465246e-01],\n",
       "       [-7.06578837e-03, -1.15056050e+00, -1.22196189e+00,\n",
       "        -1.15056050e+00],\n",
       "       [-2.95833000e-01, -6.52637789e-02,  7.44060312e-01,\n",
       "        -6.52637789e-02],\n",
       "       [-4.59802762e-01,  1.82260035e-01,  1.59826306e+00,\n",
       "         1.82260035e-01],\n",
       "       [-1.66999615e-01,  1.25994064e+00,  6.61216204e-02,\n",
       "         1.25994064e+00],\n",
       "       [ 1.25803531e-01,  1.48937618e+00, -7.47404810e-01,\n",
       "         1.48937618e+00],\n",
       "       [-4.59802762e-01,  4.10743556e-01,  1.48979287e+00,\n",
       "         4.10743556e-01],\n",
       "       [-8.58015041e-01, -5.41271113e-01, -2.05053856e-01,\n",
       "        -5.41271113e-01],\n",
       "       [-1.08438986e-01,  5.97338431e-01,  6.61216204e-02,\n",
       "         5.97338431e-01],\n",
       "       [-5.76924020e-01,  2.20340622e-01, -6.94661180e-02,\n",
       "         2.20340622e-01],\n",
       "       [-9.28287796e-01,  6.01146489e-01,  8.79648051e-01,\n",
       "         6.01146489e-01],\n",
       "       [-7.06578837e-03,  3.05069927e-01, -1.23701213e-01,\n",
       "         3.05069927e-01],\n",
       "       [-7.06578837e-03, -6.28856463e-01, -1.69651898e+00,\n",
       "        -6.28856463e-01],\n",
       "       [-8.11166538e-01,  8.86750890e-01, -1.01858029e+00,\n",
       "         8.86750890e-01],\n",
       "       [-4.59802762e-01,  1.36275822e+00,  8.79648051e-01,\n",
       "         1.36275822e+00],\n",
       "       [-7.06578837e-03, -9.22076981e-01, -7.47404810e-01,\n",
       "        -9.22076981e-01],\n",
       "       [-3.42681503e-01,  1.54935310e+00,  3.32022734e+00,\n",
       "         1.54935310e+00],\n",
       "       [-1.04540906e+00,  4.10743556e-01,  3.37297097e-01,\n",
       "         4.10743556e-01],\n",
       "       [ 3.60046049e-01,  1.07715382e+00, -1.23701213e-01,\n",
       "         1.07715382e+00],\n",
       "       [-2.25560245e-01,  1.55316116e+00, -2.72847726e-01,\n",
       "         1.55316116e+00],\n",
       "       [ 1.25803531e-01,  8.86750890e-01,  2.01709359e-01,\n",
       "         8.86750890e-01],\n",
       "       [ 1.25803531e-01, -1.12864512e-01, -7.60963584e-01,\n",
       "        -1.12864512e-01],\n",
       "       [-7.06578837e-03, -1.26480226e+00, -1.39822595e+00,\n",
       "        -1.26480226e+00],\n",
       "       [ 1.88262241e+00,  1.17235529e+00,  7.44060312e-01,\n",
       "         1.17235529e+00],\n",
       "       [-7.06578837e-03, -1.49328578e+00, -1.28975576e+00,\n",
       "        -1.49328578e+00],\n",
       "       [-6.23772524e-01, -1.12864512e-01,  3.77973419e-01,\n",
       "        -1.12864512e-01],\n",
       "       [-7.06578837e-03,  6.01146489e-01, -2.05053856e-01,\n",
       "         6.01146489e-01],\n",
       "       [-7.06578837e-03,  7.91549423e-01,  7.44060312e-01,\n",
       "         7.91549423e-01],\n",
       "       [-5.76924020e-01, -4.46069647e-01, -6.93169715e-01,\n",
       "        -4.46069647e-01],\n",
       "       [-4.59802762e-01, -6.52637789e-02, -2.95897641e-01,\n",
       "        -6.52637789e-02],\n",
       "       [-5.76924020e-01,  8.86750890e-01,  8.79648051e-01,\n",
       "         8.86750890e-01],\n",
       "       [-7.06578837e-03, -5.41271113e-01, -3.12168170e-01,\n",
       "        -5.41271113e-01],\n",
       "       [-7.06578837e-03, -1.77889018e+00, -2.05053856e-01,\n",
       "        -1.77889018e+00],\n",
       "       [-5.76924020e-01,  6.01146489e-01,  8.79648051e-01,\n",
       "         6.01146489e-01],\n",
       "       [-7.06578837e-03, -1.58848725e+00, -7.47404810e-01,\n",
       "        -1.58848725e+00],\n",
       "       [-7.06578837e-03, -3.50868180e-01, -7.47404810e-01,\n",
       "        -3.50868180e-01],\n",
       "       [-2.84120874e-01, -2.55666713e-01, -5.03346881e-01,\n",
       "        -2.55666713e-01],\n",
       "       [-7.06578837e-03, -5.41271113e-01, -8.82992548e-01,\n",
       "        -5.41271113e-01],\n",
       "       [-1.66999615e-01,  1.45795969e+00, -6.94661180e-02,\n",
       "         1.45795969e+00],\n",
       "       [-2.25560245e-01, -2.36626419e-01, -2.32171404e-01,\n",
       "        -2.36626419e-01],\n",
       "       [-2.64541048e-02,  9.81952357e-01,  1.82876222e+00,\n",
       "         9.81952357e-01],\n",
       "       [-7.06578837e-03, -1.20768138e+00, -3.40641595e-01,\n",
       "        -1.20768138e+00],\n",
       "       [-4.59802762e-01,  4.10743556e-01,  3.37297097e-01,\n",
       "         4.10743556e-01],\n",
       "       [-4.59802762e-01, -2.55666713e-01,  3.37297097e-01,\n",
       "        -2.55666713e-01],\n",
       "       [-7.06578837e-03, -6.36472580e-01, -3.40641595e-01,\n",
       "        -6.36472580e-01],\n",
       "       [-8.11166538e-01,  1.25139155e-01, -2.05053856e-01,\n",
       "         1.25139155e-01],\n",
       "       [-1.55287489e-01, -2.55666713e-01,  3.37297097e-01,\n",
       "        -2.55666713e-01],\n",
       "       [-3.42681503e-01, -9.22076981e-01, -3.40641595e-01,\n",
       "        -9.22076981e-01],\n",
       "       [-4.98783566e-02,  6.20186783e-01,  1.45589594e+00,\n",
       "         6.20186783e-01],\n",
       "       [ 1.21503124e+00,  1.07715382e+00,  2.50670091e+00,\n",
       "         1.07715382e+00],\n",
       "       [-4.01242133e-01,  1.57220145e+00, -2.05053856e-01,\n",
       "         1.57220145e+00],\n",
       "       [-7.06578837e-03, -1.49328578e+00, -2.05053856e-01,\n",
       "        -1.49328578e+00],\n",
       "       [ 1.25803531e-01,  9.50535873e-01,  5.63728620e-01,\n",
       "         9.50535873e-01],\n",
       "       [-3.42681503e-01,  6.01146489e-01,  7.44060312e-01,\n",
       "         6.01146489e-01],\n",
       "       [-6.23772524e-01, -7.31674047e-01,  4.72884836e-01,\n",
       "        -7.31674047e-01],\n",
       "       [-7.06578837e-03, -1.49328578e+00, -1.15416803e+00,\n",
       "        -1.49328578e+00],\n",
       "       [-7.06578837e-03, -4.46069647e-01, -3.40641595e-01,\n",
       "        -4.46069647e-01],\n",
       "       [ 1.58981926e+00,  1.72452380e+00,  9.20324372e-01,\n",
       "         1.72452380e+00],\n",
       "       [ 1.25803531e-01,  1.25139155e-01, -2.05053856e-01,\n",
       "         1.25139155e-01],\n",
       "       [-7.06578837e-03, -6.52637789e-02, -2.05053856e-01,\n",
       "        -6.52637789e-02],\n",
       "       [-7.06578837e-03, -9.22076981e-01, -1.01858029e+00,\n",
       "        -9.22076981e-01],\n",
       "       [-9.28287796e-01,  1.07715382e+00,  1.21861740e+00,\n",
       "         1.07715382e+00],\n",
       "       [-7.06578837e-03, -5.41271113e-01, -2.23886993e+00,\n",
       "        -5.41271113e-01],\n",
       "       [ 1.29701612e+00,  2.06724908e+00,  6.42369509e-01,\n",
       "         2.06724908e+00],\n",
       "       [ 1.25803531e-01,  7.91549423e-01,  1.28641127e+00,\n",
       "         7.91549423e-01],\n",
       "       [ 1.25803531e-01,  1.55316116e+00,  2.01709359e-01,\n",
       "         1.55316116e+00],\n",
       "       [-4.59802762e-01, -6.36472580e-01, -2.05053856e-01,\n",
       "        -6.36472580e-01],\n",
       "       [-7.06578837e-03, -8.26875514e-01,  1.48979287e+00,\n",
       "        -8.26875514e-01],\n",
       "       [-1.04540906e+00,  1.36275822e+00,  2.23552543e+00,\n",
       "         1.36275822e+00],\n",
       "       [ 1.06277360e+00, -4.46069647e-01,  2.01709359e-01,\n",
       "        -4.46069647e-01],\n",
       "       [-4.59802762e-01, -9.22076981e-01, -7.47404810e-01,\n",
       "        -9.22076981e-01],\n",
       "       [-4.36378510e-01,  1.93396703e+00,  1.55758674e+00,\n",
       "         1.93396703e+00],\n",
       "       [-7.06578837e-03, -1.11247991e+00, -1.96769446e+00,\n",
       "        -1.11247991e+00],\n",
       "       [-5.76924020e-01,  3.15542089e-01, -6.94661180e-02,\n",
       "         3.15542089e-01],\n",
       "       [ 5.94288566e-01, -1.77889018e+00, -2.05053856e-01,\n",
       "        -1.77889018e+00],\n",
       "       [ 7.11409825e-01,  8.63902538e-01,  1.33915490e-01,\n",
       "         8.63902538e-01],\n",
       "       [-8.11166538e-01, -6.93593460e-01, -2.05053856e-01,\n",
       "        -6.93593460e-01],\n",
       "       [ 8.28531083e-01,  1.36275822e+00, -6.11817072e-01,\n",
       "         1.36275822e+00],\n",
       "       [ 2.46822870e+00,  5.28793374e-01, -3.04032905e-01,\n",
       "         5.28793374e-01],\n",
       "       [-5.76924020e-01,  1.63503442e+00,  1.55758674e+00,\n",
       "         1.63503442e+00],\n",
       "       [-1.04540906e+00,  8.86750890e-01,  1.96434996e+00,\n",
       "         8.86750890e-01],\n",
       "       [ 5.47440063e-01, -1.05535903e+00,  5.00002383e-01,\n",
       "        -1.05535903e+00],\n",
       "       [-7.06578837e-03, -2.55097408e+00, -1.83210672e+00,\n",
       "        -2.55097408e+00],\n",
       "       [ 4.69353262e+00,  3.15542089e-01, -1.15416803e+00,\n",
       "         3.15542089e-01],\n",
       "       [ 1.42584950e+00,  1.26755676e+00, -3.40641595e-01,\n",
       "         1.26755676e+00],\n",
       "       [-7.06578837e-03,  9.62912064e-01, -3.13524047e-01,\n",
       "         9.62912064e-01],\n",
       "       [-7.06578837e-03, -4.07989060e-01, -8.82992548e-01,\n",
       "        -4.07989060e-01],\n",
       "       [-1.04540906e+00, -2.55666713e-01,  3.37297097e-01,\n",
       "        -2.55666713e-01],\n",
       "       [ 1.25803531e-01,  1.83876556e+00, -2.05053856e-01,\n",
       "         1.83876556e+00],\n",
       "       [-7.06578837e-03, -4.46069647e-01,  1.01523579e+00,\n",
       "        -4.46069647e-01],\n",
       "       [-3.42681503e-01, -9.22076981e-01, -8.82992548e-01,\n",
       "        -9.22076981e-01],\n",
       "       [-7.06578837e-03, -1.49328578e+00, -7.47404810e-01,\n",
       "        -1.49328578e+00],\n",
       "       [-7.06578837e-03,  1.91780182e-01,  8.38971729e-01,\n",
       "         1.91780182e-01],\n",
       "       [-7.06578837e-03, -2.15969605e+00, -1.15416803e+00,\n",
       "        -2.15969605e+00],\n",
       "       [-8.58015041e-01,  6.01146489e-01,  3.37297097e-01,\n",
       "         6.01146489e-01]])"
      ]
     },
     "execution_count": 81,
     "metadata": {},
     "output_type": "execute_result"
    }
   ],
   "source": [
    "X_train"
   ]
  },
  {
   "cell_type": "code",
   "execution_count": 82,
   "id": "1aec0f64",
   "metadata": {},
   "outputs": [],
   "source": [
    "from sklearn.linear_model import LogisticRegression"
   ]
  },
  {
   "cell_type": "code",
   "execution_count": 83,
   "id": "3606b368",
   "metadata": {},
   "outputs": [],
   "source": [
    "model_log_reg = LogisticRegression()"
   ]
  },
  {
   "cell_type": "code",
   "execution_count": 84,
   "id": "cc2a07ad",
   "metadata": {},
   "outputs": [
    {
     "data": {
      "text/plain": [
       "LogisticRegression()"
      ]
     },
     "execution_count": 84,
     "metadata": {},
     "output_type": "execute_result"
    }
   ],
   "source": [
    "model_log_reg.fit(X_train, y_train)"
   ]
  },
  {
   "cell_type": "code",
   "execution_count": 85,
   "id": "c00b3ce0",
   "metadata": {},
   "outputs": [
    {
     "data": {
      "text/plain": [
       "0.8333333333333334"
      ]
     },
     "execution_count": 85,
     "metadata": {},
     "output_type": "execute_result"
    }
   ],
   "source": [
    "model_log_reg.score(X_train, y_train)"
   ]
  },
  {
   "cell_type": "code",
   "execution_count": 86,
   "id": "71e777e6",
   "metadata": {},
   "outputs": [
    {
     "data": {
      "text/plain": [
       "0.8923076923076924"
      ]
     },
     "execution_count": 86,
     "metadata": {},
     "output_type": "execute_result"
    }
   ],
   "source": [
    "model_log_reg.score(X_test, y_test)"
   ]
  },
  {
   "cell_type": "code",
   "execution_count": 87,
   "id": "3e6589b8",
   "metadata": {},
   "outputs": [],
   "source": [
    "y_pred = model_log_reg.predict(X_test)"
   ]
  },
  {
   "cell_type": "code",
   "execution_count": 88,
   "id": "4c12820d",
   "metadata": {},
   "outputs": [],
   "source": [
    "from sklearn.metrics import ConfusionMatrixDisplay, confusion_matrix"
   ]
  },
  {
   "cell_type": "code",
   "execution_count": 89,
   "id": "6aa3799f",
   "metadata": {},
   "outputs": [
    {
     "data": {
      "text/plain": [
       "<sklearn.metrics._plot.confusion_matrix.ConfusionMatrixDisplay at 0x2a22c24a4f0>"
      ]
     },
     "execution_count": 89,
     "metadata": {},
     "output_type": "execute_result"
    },
    {
     "data": {
      "image/png": "[encoded data removed]",
      "text/plain": [
       "<Figure size 432x288 with 2 Axes>"
      ]
     },
     "metadata": {
      "needs_background": "light"
     },
     "output_type": "display_data"
    }
   ],
   "source": [
    "ConfusionMatrixDisplay(confusion_matrix(y_true=y_test, y_pred=y_pred)).plot()"
   ]
  },
  {
   "cell_type": "code",
   "execution_count": 90,
   "id": "91a8a42d",
   "metadata": {},
   "outputs": [],
   "source": [
    "from sklearn.tree import DecisionTreeClassifier"
   ]
  },
  {
   "cell_type": "code",
   "execution_count": 91,
   "id": "854f41a2",
   "metadata": {},
   "outputs": [],
   "source": [
    "model_dt = DecisionTreeClassifier()"
   ]
  },
  {
   "cell_type": "code",
   "execution_count": 92,
   "id": "169a2499",
   "metadata": {},
   "outputs": [
    {
     "data": {
      "text/plain": [
       "DecisionTreeClassifier()"
      ]
     },
     "execution_count": 92,
     "metadata": {},
     "output_type": "execute_result"
    }
   ],
   "source": [
    "model_dt.fit(X_train, y_train)"
   ]
  },
  {
   "cell_type": "code",
   "execution_count": 93,
   "id": "d26f8e73",
   "metadata": {},
   "outputs": [
    {
     "data": {
      "text/plain": [
       "1.0"
      ]
     },
     "execution_count": 93,
     "metadata": {},
     "output_type": "execute_result"
    }
   ],
   "source": [
    "model_dt.score(X_train, y_train)"
   ]
  },
  {
   "cell_type": "code",
   "execution_count": 94,
   "id": "e10efec7",
   "metadata": {},
   "outputs": [
    {
     "data": {
      "text/plain": [
       "0.9846153846153847"
      ]
     },
     "execution_count": 94,
     "metadata": {},
     "output_type": "execute_result"
    }
   ],
   "source": [
    "model_dt.score(X_test, y_test)"
   ]
  },
  {
   "cell_type": "code",
   "execution_count": 97,
   "id": "52d72715",
   "metadata": {},
   "outputs": [
    {
     "data": {
      "text/plain": [
       "((150, 4), (65, 4))"
      ]
     },
     "execution_count": 97,
     "metadata": {},
     "output_type": "execute_result"
    }
   ],
   "source": [
    "X_train.shape, X_test.shape"
   ]
  },
  {
   "cell_type": "code",
   "execution_count": 98,
   "id": "1a733895",
   "metadata": {},
   "outputs": [],
   "source": [
    "y_pred = model_dt.predict(X_test)"
   ]
  },
  {
   "cell_type": "code",
   "execution_count": 99,
   "id": "d11fe2ea",
   "metadata": {},
   "outputs": [
    {
     "data": {
      "text/plain": [
       "array([0, 0, 1, 1, 0, 1, 1, 1, 0, 1, 1, 1, 0, 1, 0, 1, 1, 0, 0, 0, 1, 0,\n",
       "       1, 1, 1, 1, 1, 1, 1, 1, 1, 1, 1, 1, 1, 0, 0, 0, 0, 1, 1, 1, 1, 1,\n",
       "       1, 0, 0, 1, 1, 1, 1, 1, 1, 1, 1, 1, 1, 0, 1, 0, 0, 1, 1, 0, 0],\n",
       "      dtype=int64)"
      ]
     },
     "execution_count": 99,
     "metadata": {},
     "output_type": "execute_result"
    }
   ],
   "source": [
    "y_pred"
   ]
  },
  {
   "cell_type": "code",
   "execution_count": 100,
   "id": "09f5fd55",
   "metadata": {},
   "outputs": [
    {
     "data": {
      "text/plain": [
       "<sklearn.metrics._plot.confusion_matrix.ConfusionMatrixDisplay at 0x2a22c275f70>"
      ]
     },
     "execution_count": 100,
     "metadata": {},
     "output_type": "execute_result"
    },
    {
     "data": {
      "image/png": "[encoded data removed]",
      "text/plain": [
       "<Figure size 432x288 with 2 Axes>"
      ]
     },
     "metadata": {
      "needs_background": "light"
     },
     "output_type": "display_data"
    }
   ],
   "source": [
    "ConfusionMatrixDisplay(confusion_matrix(y_true=y_test, y_pred=y_pred)).plot()"
   ]
  },
  {
   "cell_type": "code",
   "execution_count": 101,
   "id": "ad18abd4",
   "metadata": {},
   "outputs": [],
   "source": [
    "from sklearn.ensemble import RandomForestClassifier"
   ]
  },
  {
   "cell_type": "code",
   "execution_count": 102,
   "id": "a47df43e",
   "metadata": {},
   "outputs": [],
   "source": [
    "model_rf = RandomForestClassifier()"
   ]
  },
  {
   "cell_type": "code",
   "execution_count": 103,
   "id": "20710f6b",
   "metadata": {},
   "outputs": [
    {
     "data": {
      "text/plain": [
       "RandomForestClassifier()"
      ]
     },
     "execution_count": 103,
     "metadata": {},
     "output_type": "execute_result"
    }
   ],
   "source": [
    "model_rf.fit(X_train, y_train)"
   ]
  },
  {
   "cell_type": "code",
   "execution_count": 104,
   "id": "5ab1637d",
   "metadata": {},
   "outputs": [
    {
     "data": {
      "text/plain": [
       "1.0"
      ]
     },
     "execution_count": 104,
     "metadata": {},
     "output_type": "execute_result"
    }
   ],
   "source": [
    "model_rf.score(X_train, y_train)"
   ]
  },
  {
   "cell_type": "code",
   "execution_count": 105,
   "id": "bd40df2c",
   "metadata": {},
   "outputs": [
    {
     "data": {
      "text/plain": [
       "0.9692307692307692"
      ]
     },
     "execution_count": 105,
     "metadata": {},
     "output_type": "execute_result"
    }
   ],
   "source": [
    "model_rf.score(X_test, y_test)"
   ]
  },
  {
   "cell_type": "code",
   "execution_count": 106,
   "id": "81bb8dda",
   "metadata": {},
   "outputs": [],
   "source": [
    "y_pred = model_rf.predict(X_test)"
   ]
  },
  {
   "cell_type": "code",
   "execution_count": 107,
   "id": "4660e784",
   "metadata": {},
   "outputs": [
    {
     "data": {
      "text/plain": [
       "<sklearn.metrics._plot.confusion_matrix.ConfusionMatrixDisplay at 0x2a22c2b6160>"
      ]
     },
     "execution_count": 107,
     "metadata": {},
     "output_type": "execute_result"
    },
    {
     "data": {
      "image/png": "[encoded data removed]",
      "text/plain": [
       "<Figure size 432x288 with 2 Axes>"
      ]
     },
     "metadata": {
      "needs_background": "light"
     },
     "output_type": "display_data"
    }
   ],
   "source": [
    "ConfusionMatrixDisplay(confusion_matrix(y_true=y_test, y_pred=y_pred)).plot()"
   ]
  },
  {
   "cell_type": "code",
   "execution_count": 108,
   "id": "8a0e60f9",
   "metadata": {},
   "outputs": [],
   "source": [
    "y_pred_prob = model_rf.predict_proba(X_test)"
   ]
  },
  {
   "cell_type": "code",
   "execution_count": 110,
   "id": "d40c721e",
   "metadata": {},
   "outputs": [
    {
     "data": {
      "text/plain": [
       "array([0.  , 0.  , 1.  , 0.96, 0.03, 0.8 , 0.71, 0.85, 0.  , 1.  , 0.99,\n",
       "       0.61, 0.01, 1.  , 0.05, 1.  , 0.9 , 0.  , 0.  , 0.03, 1.  , 0.2 ,\n",
       "       0.96, 0.99, 1.  , 0.99, 0.99, 0.7 , 1.  , 1.  , 0.93, 0.89, 1.  ,\n",
       "       0.84, 0.95, 0.  , 0.09, 0.48, 0.09, 1.  , 0.98, 0.97, 0.6 , 1.  ,\n",
       "       0.99, 0.  , 0.  , 1.  , 1.  , 0.99, 0.97, 1.  , 0.99, 1.  , 0.96,\n",
       "       1.  , 0.36, 0.01, 1.  , 0.1 , 0.  , 1.  , 0.8 , 0.03, 0.  ])"
      ]
     },
     "execution_count": 110,
     "metadata": {},
     "output_type": "execute_result"
    }
   ],
   "source": [
    "y_pred_prob[:,1]"
   ]
  },
  {
   "cell_type": "code",
   "execution_count": 111,
   "id": "2e600bfa",
   "metadata": {},
   "outputs": [
    {
     "data": {
      "text/plain": [
       "array([1.  , 1.  , 0.  , 0.04, 0.97, 0.2 , 0.29, 0.15, 1.  , 0.  , 0.01,\n",
       "       0.39, 0.99, 0.  , 0.95, 0.  , 0.1 , 1.  , 1.  , 0.97, 0.  , 0.8 ,\n",
       "       0.04, 0.01, 0.  , 0.01, 0.01, 0.3 , 0.  , 0.  , 0.07, 0.11, 0.  ,\n",
       "       0.16, 0.05, 1.  , 0.91, 0.52, 0.91, 0.  , 0.02, 0.03, 0.4 , 0.  ,\n",
       "       0.01, 1.  , 1.  , 0.  , 0.  , 0.01, 0.03, 0.  , 0.01, 0.  , 0.04,\n",
       "       0.  , 0.64, 0.99, 0.  , 0.9 , 1.  , 0.  , 0.2 , 0.97, 1.  ])"
      ]
     },
     "execution_count": 111,
     "metadata": {},
     "output_type": "execute_result"
    }
   ],
   "source": [
    "y_pred_prob[:,0]"
   ]
  },
  {
   "cell_type": "code",
   "execution_count": 112,
   "id": "4e668f93",
   "metadata": {},
   "outputs": [
    {
     "data": {
      "text/plain": [
       "array([0, 0, 1, 1, 0, 1, 1, 1, 0, 1, 1, 1, 0, 1, 0, 1, 1, 0, 0, 0, 1, 0,\n",
       "       1, 1, 1, 1, 1, 1, 1, 1, 1, 1, 1, 1, 1, 0, 0, 0, 0, 1, 1, 1, 1, 1,\n",
       "       1, 0, 0, 1, 1, 1, 1, 1, 1, 1, 1, 1, 0, 0, 1, 0, 0, 1, 1, 0, 0],\n",
       "      dtype=int64)"
      ]
     },
     "execution_count": 112,
     "metadata": {},
     "output_type": "execute_result"
    }
   ],
   "source": [
    "y_pred"
   ]
  },
  {
   "cell_type": "code",
   "execution_count": 113,
   "id": "83642ede",
   "metadata": {},
   "outputs": [
    {
     "data": {
      "text/plain": [
       "array([[1.  , 0.  ],\n",
       "       [1.  , 0.  ],\n",
       "       [0.  , 1.  ],\n",
       "       [0.04, 0.96],\n",
       "       [0.97, 0.03],\n",
       "       [0.2 , 0.8 ],\n",
       "       [0.29, 0.71],\n",
       "       [0.15, 0.85],\n",
       "       [1.  , 0.  ],\n",
       "       [0.  , 1.  ],\n",
       "       [0.01, 0.99],\n",
       "       [0.39, 0.61],\n",
       "       [0.99, 0.01],\n",
       "       [0.  , 1.  ],\n",
       "       [0.95, 0.05],\n",
       "       [0.  , 1.  ],\n",
       "       [0.1 , 0.9 ],\n",
       "       [1.  , 0.  ],\n",
       "       [1.  , 0.  ],\n",
       "       [0.97, 0.03],\n",
       "       [0.  , 1.  ],\n",
       "       [0.8 , 0.2 ],\n",
       "       [0.04, 0.96],\n",
       "       [0.01, 0.99],\n",
       "       [0.  , 1.  ],\n",
       "       [0.01, 0.99],\n",
       "       [0.01, 0.99],\n",
       "       [0.3 , 0.7 ],\n",
       "       [0.  , 1.  ],\n",
       "       [0.  , 1.  ],\n",
       "       [0.07, 0.93],\n",
       "       [0.11, 0.89],\n",
       "       [0.  , 1.  ],\n",
       "       [0.16, 0.84],\n",
       "       [0.05, 0.95],\n",
       "       [1.  , 0.  ],\n",
       "       [0.91, 0.09],\n",
       "       [0.52, 0.48],\n",
       "       [0.91, 0.09],\n",
       "       [0.  , 1.  ],\n",
       "       [0.02, 0.98],\n",
       "       [0.03, 0.97],\n",
       "       [0.4 , 0.6 ],\n",
       "       [0.  , 1.  ],\n",
       "       [0.01, 0.99],\n",
       "       [1.  , 0.  ],\n",
       "       [1.  , 0.  ],\n",
       "       [0.  , 1.  ],\n",
       "       [0.  , 1.  ],\n",
       "       [0.01, 0.99],\n",
       "       [0.03, 0.97],\n",
       "       [0.  , 1.  ],\n",
       "       [0.01, 0.99],\n",
       "       [0.  , 1.  ],\n",
       "       [0.04, 0.96],\n",
       "       [0.  , 1.  ],\n",
       "       [0.64, 0.36],\n",
       "       [0.99, 0.01],\n",
       "       [0.  , 1.  ],\n",
       "       [0.9 , 0.1 ],\n",
       "       [1.  , 0.  ],\n",
       "       [0.  , 1.  ],\n",
       "       [0.2 , 0.8 ],\n",
       "       [0.97, 0.03],\n",
       "       [1.  , 0.  ]])"
      ]
     },
     "execution_count": 113,
     "metadata": {},
     "output_type": "execute_result"
    }
   ],
   "source": [
    "y_pred_prob"
   ]
  },
  {
   "cell_type": "code",
   "execution_count": 118,
   "id": "a634d8e6",
   "metadata": {},
   "outputs": [
    {
     "name": "stdout",
     "output_type": "stream",
     "text": [
      "0\n",
      "0\n",
      "1\n",
      "1\n",
      "0\n",
      "1\n",
      "1\n",
      "1\n",
      "0\n",
      "1\n",
      "1\n",
      "1\n",
      "0\n",
      "1\n",
      "0\n",
      "1\n",
      "1\n",
      "0\n",
      "0\n",
      "0\n",
      "1\n",
      "0\n",
      "1\n",
      "1\n",
      "1\n",
      "1\n",
      "1\n",
      "1\n",
      "1\n",
      "1\n",
      "1\n",
      "1\n",
      "1\n",
      "1\n",
      "1\n",
      "0\n",
      "0\n",
      "1\n",
      "0\n",
      "1\n",
      "1\n",
      "1\n",
      "1\n",
      "1\n",
      "1\n",
      "0\n",
      "0\n",
      "1\n",
      "1\n",
      "1\n",
      "1\n",
      "1\n",
      "1\n",
      "1\n",
      "1\n",
      "1\n",
      "0\n",
      "0\n",
      "1\n",
      "0\n",
      "0\n",
      "1\n",
      "1\n",
      "0\n",
      "0\n"
     ]
    }
   ],
   "source": [
    "for i in y_pred_prob[:,1]:\n",
    "    if i<0.405711:\n",
    "        print(\"0\")\n",
    "    else:\n",
    "        print(\"1\")"
   ]
  },
  {
   "cell_type": "code",
   "execution_count": 116,
   "id": "664f4e09",
   "metadata": {},
   "outputs": [
    {
     "data": {
      "text/plain": [
       "array([0, 0, 1, 1, 0, 1, 1, 1, 0, 1, 1, 1, 0, 1, 0, 1, 1, 0, 0, 0, 1, 0,\n",
       "       1, 1, 1, 1, 1, 1, 1, 1, 1, 1, 1, 1, 1, 0, 0, 0, 0, 1, 1, 1, 1, 1,\n",
       "       1, 0, 0, 1, 1, 1, 1, 1, 1, 1, 1, 1, 0, 0, 1, 0, 0, 1, 1, 0, 0],\n",
       "      dtype=int64)"
      ]
     },
     "execution_count": 116,
     "metadata": {},
     "output_type": "execute_result"
    }
   ],
   "source": [
    "y_pred"
   ]
  },
  {
   "cell_type": "code",
   "execution_count": null,
   "id": "96aad810",
   "metadata": {},
   "outputs": [],
   "source": []
  }
 ],
 "metadata": {
  "kernelspec": {
   "display_name": "Python 3 (ipykernel)",
   "language": "python",
   "name": "python3"
  },
  "language_info": {
   "codemirror_mode": {
    "name": "ipython",
    "version": 3
   },
   "file_extension": ".py",
   "mimetype": "text/x-python",
   "name": "python",
   "nbconvert_exporter": "python",
   "pygments_lexer": "ipython3",
   "version": "3.9.12"
  }
 },
 "nbformat": 4,
 "nbformat_minor": 5
}
