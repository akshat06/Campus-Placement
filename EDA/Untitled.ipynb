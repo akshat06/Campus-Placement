{
 "cells": [
  {
   "cell_type": "code",
   "execution_count": 66,
   "id": "0e195105",
   "metadata": {},
   "outputs": [],
   "source": [
    "import pandas as pd\n",
    "import numpy as np\n",
    "import seaborn as sns\n",
    "import matplotlib.pyplot as plt\n",
    "%matplotlib inline\n",
    "import pickle"
   ]
  },
  {
   "cell_type": "code",
   "execution_count": 2,
   "id": "2ef92fbd",
   "metadata": {},
   "outputs": [],
   "source": [
    "df = pd.read_csv('dataset/train.csv')"
   ]
  },
  {
   "cell_type": "code",
   "execution_count": 3,
   "id": "8e93ece7",
   "metadata": {},
   "outputs": [
    {
     "data": {
      "text/html": [
       "<div>\n",
       "<style scoped>\n",
       "    .dataframe tbody tr th:only-of-type {\n",
       "        vertical-align: middle;\n",
       "    }\n",
       "\n",
       "    .dataframe tbody tr th {\n",
       "        vertical-align: top;\n",
       "    }\n",
       "\n",
       "    .dataframe thead th {\n",
       "        text-align: right;\n",
       "    }\n",
       "</style>\n",
       "<table border=\"1\" class=\"dataframe\">\n",
       "  <thead>\n",
       "    <tr style=\"text-align: right;\">\n",
       "      <th></th>\n",
       "      <th>sl_no</th>\n",
       "      <th>gender</th>\n",
       "      <th>ssc_p</th>\n",
       "      <th>ssc_b</th>\n",
       "      <th>hsc_p</th>\n",
       "      <th>hsc_b</th>\n",
       "      <th>hsc_s</th>\n",
       "      <th>degree_p</th>\n",
       "      <th>degree_t</th>\n",
       "      <th>workex</th>\n",
       "      <th>etest_p</th>\n",
       "      <th>specialisation</th>\n",
       "      <th>mba_p</th>\n",
       "      <th>status</th>\n",
       "      <th>salary</th>\n",
       "    </tr>\n",
       "  </thead>\n",
       "  <tbody>\n",
       "    <tr>\n",
       "      <th>0</th>\n",
       "      <td>1</td>\n",
       "      <td>0</td>\n",
       "      <td>67.00</td>\n",
       "      <td>Others</td>\n",
       "      <td>91.00</td>\n",
       "      <td>Others</td>\n",
       "      <td>Commerce</td>\n",
       "      <td>58.00</td>\n",
       "      <td>Sci&amp;Tech</td>\n",
       "      <td>No</td>\n",
       "      <td>55.0</td>\n",
       "      <td>Mkt&amp;HR</td>\n",
       "      <td>58.80</td>\n",
       "      <td>Placed</td>\n",
       "      <td>270000.0</td>\n",
       "    </tr>\n",
       "    <tr>\n",
       "      <th>1</th>\n",
       "      <td>2</td>\n",
       "      <td>0</td>\n",
       "      <td>79.33</td>\n",
       "      <td>Central</td>\n",
       "      <td>78.33</td>\n",
       "      <td>Others</td>\n",
       "      <td>Science</td>\n",
       "      <td>77.48</td>\n",
       "      <td>Sci&amp;Tech</td>\n",
       "      <td>Yes</td>\n",
       "      <td>86.5</td>\n",
       "      <td>Mkt&amp;Fin</td>\n",
       "      <td>66.28</td>\n",
       "      <td>Placed</td>\n",
       "      <td>200000.0</td>\n",
       "    </tr>\n",
       "    <tr>\n",
       "      <th>2</th>\n",
       "      <td>3</td>\n",
       "      <td>0</td>\n",
       "      <td>65.00</td>\n",
       "      <td>Central</td>\n",
       "      <td>68.00</td>\n",
       "      <td>Central</td>\n",
       "      <td>Arts</td>\n",
       "      <td>64.00</td>\n",
       "      <td>Comm&amp;Mgmt</td>\n",
       "      <td>No</td>\n",
       "      <td>75.0</td>\n",
       "      <td>Mkt&amp;Fin</td>\n",
       "      <td>57.80</td>\n",
       "      <td>Placed</td>\n",
       "      <td>250000.0</td>\n",
       "    </tr>\n",
       "    <tr>\n",
       "      <th>3</th>\n",
       "      <td>4</td>\n",
       "      <td>0</td>\n",
       "      <td>56.00</td>\n",
       "      <td>Central</td>\n",
       "      <td>52.00</td>\n",
       "      <td>Central</td>\n",
       "      <td>Science</td>\n",
       "      <td>52.00</td>\n",
       "      <td>Sci&amp;Tech</td>\n",
       "      <td>No</td>\n",
       "      <td>66.0</td>\n",
       "      <td>Mkt&amp;HR</td>\n",
       "      <td>59.43</td>\n",
       "      <td>Not Placed</td>\n",
       "      <td>NaN</td>\n",
       "    </tr>\n",
       "    <tr>\n",
       "      <th>4</th>\n",
       "      <td>5</td>\n",
       "      <td>0</td>\n",
       "      <td>85.80</td>\n",
       "      <td>Central</td>\n",
       "      <td>73.60</td>\n",
       "      <td>Central</td>\n",
       "      <td>Commerce</td>\n",
       "      <td>73.30</td>\n",
       "      <td>Comm&amp;Mgmt</td>\n",
       "      <td>No</td>\n",
       "      <td>96.8</td>\n",
       "      <td>Mkt&amp;Fin</td>\n",
       "      <td>55.50</td>\n",
       "      <td>Placed</td>\n",
       "      <td>425000.0</td>\n",
       "    </tr>\n",
       "  </tbody>\n",
       "</table>\n",
       "</div>"
      ],
      "text/plain": [
       "   sl_no  gender  ssc_p    ssc_b  hsc_p    hsc_b     hsc_s  degree_p  \\\n",
       "0      1       0  67.00   Others  91.00   Others  Commerce     58.00   \n",
       "1      2       0  79.33  Central  78.33   Others   Science     77.48   \n",
       "2      3       0  65.00  Central  68.00  Central      Arts     64.00   \n",
       "3      4       0  56.00  Central  52.00  Central   Science     52.00   \n",
       "4      5       0  85.80  Central  73.60  Central  Commerce     73.30   \n",
       "\n",
       "    degree_t workex  etest_p specialisation  mba_p      status    salary  \n",
       "0   Sci&Tech     No     55.0         Mkt&HR  58.80      Placed  270000.0  \n",
       "1   Sci&Tech    Yes     86.5        Mkt&Fin  66.28      Placed  200000.0  \n",
       "2  Comm&Mgmt     No     75.0        Mkt&Fin  57.80      Placed  250000.0  \n",
       "3   Sci&Tech     No     66.0         Mkt&HR  59.43  Not Placed       NaN  \n",
       "4  Comm&Mgmt     No     96.8        Mkt&Fin  55.50      Placed  425000.0  "
      ]
     },
     "execution_count": 3,
     "metadata": {},
     "output_type": "execute_result"
    }
   ],
   "source": [
    "df.head()"
   ]
  },
  {
   "cell_type": "code",
   "execution_count": 4,
   "id": "e63c468a",
   "metadata": {},
   "outputs": [
    {
     "name": "stdout",
     "output_type": "stream",
     "text": [
      "<class 'pandas.core.frame.DataFrame'>\n",
      "RangeIndex: 215 entries, 0 to 214\n",
      "Data columns (total 15 columns):\n",
      " #   Column          Non-Null Count  Dtype  \n",
      "---  ------          --------------  -----  \n",
      " 0   sl_no           215 non-null    int64  \n",
      " 1   gender          215 non-null    int64  \n",
      " 2   ssc_p           215 non-null    float64\n",
      " 3   ssc_b           215 non-null    object \n",
      " 4   hsc_p           215 non-null    float64\n",
      " 5   hsc_b           215 non-null    object \n",
      " 6   hsc_s           215 non-null    object \n",
      " 7   degree_p        215 non-null    float64\n",
      " 8   degree_t        215 non-null    object \n",
      " 9   workex          215 non-null    object \n",
      " 10  etest_p         215 non-null    float64\n",
      " 11  specialisation  215 non-null    object \n",
      " 12  mba_p           215 non-null    float64\n",
      " 13  status          215 non-null    object \n",
      " 14  salary          148 non-null    float64\n",
      "dtypes: float64(6), int64(2), object(7)\n",
      "memory usage: 25.3+ KB\n"
     ]
    }
   ],
   "source": [
    "df.info()"
   ]
  },
  {
   "cell_type": "code",
   "execution_count": 5,
   "id": "e558b546",
   "metadata": {},
   "outputs": [
    {
     "data": {
      "text/html": [
       "<div>\n",
       "<style scoped>\n",
       "    .dataframe tbody tr th:only-of-type {\n",
       "        vertical-align: middle;\n",
       "    }\n",
       "\n",
       "    .dataframe tbody tr th {\n",
       "        vertical-align: top;\n",
       "    }\n",
       "\n",
       "    .dataframe thead th {\n",
       "        text-align: right;\n",
       "    }\n",
       "</style>\n",
       "<table border=\"1\" class=\"dataframe\">\n",
       "  <thead>\n",
       "    <tr style=\"text-align: right;\">\n",
       "      <th></th>\n",
       "      <th>sl_no</th>\n",
       "      <th>gender</th>\n",
       "      <th>ssc_p</th>\n",
       "      <th>hsc_p</th>\n",
       "      <th>degree_p</th>\n",
       "      <th>etest_p</th>\n",
       "      <th>mba_p</th>\n",
       "      <th>salary</th>\n",
       "    </tr>\n",
       "  </thead>\n",
       "  <tbody>\n",
       "    <tr>\n",
       "      <th>count</th>\n",
       "      <td>215.000000</td>\n",
       "      <td>215.000000</td>\n",
       "      <td>215.000000</td>\n",
       "      <td>215.000000</td>\n",
       "      <td>215.000000</td>\n",
       "      <td>215.000000</td>\n",
       "      <td>215.000000</td>\n",
       "      <td>148.000000</td>\n",
       "    </tr>\n",
       "    <tr>\n",
       "      <th>mean</th>\n",
       "      <td>108.000000</td>\n",
       "      <td>0.353488</td>\n",
       "      <td>67.303395</td>\n",
       "      <td>66.333163</td>\n",
       "      <td>66.370186</td>\n",
       "      <td>72.100558</td>\n",
       "      <td>62.278186</td>\n",
       "      <td>288655.405405</td>\n",
       "    </tr>\n",
       "    <tr>\n",
       "      <th>std</th>\n",
       "      <td>62.209324</td>\n",
       "      <td>0.479168</td>\n",
       "      <td>10.827205</td>\n",
       "      <td>10.897509</td>\n",
       "      <td>7.358743</td>\n",
       "      <td>13.275956</td>\n",
       "      <td>5.833385</td>\n",
       "      <td>93457.452420</td>\n",
       "    </tr>\n",
       "    <tr>\n",
       "      <th>min</th>\n",
       "      <td>1.000000</td>\n",
       "      <td>0.000000</td>\n",
       "      <td>40.890000</td>\n",
       "      <td>37.000000</td>\n",
       "      <td>50.000000</td>\n",
       "      <td>50.000000</td>\n",
       "      <td>51.210000</td>\n",
       "      <td>200000.000000</td>\n",
       "    </tr>\n",
       "    <tr>\n",
       "      <th>25%</th>\n",
       "      <td>54.500000</td>\n",
       "      <td>0.000000</td>\n",
       "      <td>60.600000</td>\n",
       "      <td>60.900000</td>\n",
       "      <td>61.000000</td>\n",
       "      <td>60.000000</td>\n",
       "      <td>57.945000</td>\n",
       "      <td>240000.000000</td>\n",
       "    </tr>\n",
       "    <tr>\n",
       "      <th>50%</th>\n",
       "      <td>108.000000</td>\n",
       "      <td>0.000000</td>\n",
       "      <td>67.000000</td>\n",
       "      <td>65.000000</td>\n",
       "      <td>66.000000</td>\n",
       "      <td>71.000000</td>\n",
       "      <td>62.000000</td>\n",
       "      <td>265000.000000</td>\n",
       "    </tr>\n",
       "    <tr>\n",
       "      <th>75%</th>\n",
       "      <td>161.500000</td>\n",
       "      <td>1.000000</td>\n",
       "      <td>75.700000</td>\n",
       "      <td>73.000000</td>\n",
       "      <td>72.000000</td>\n",
       "      <td>83.500000</td>\n",
       "      <td>66.255000</td>\n",
       "      <td>300000.000000</td>\n",
       "    </tr>\n",
       "    <tr>\n",
       "      <th>max</th>\n",
       "      <td>215.000000</td>\n",
       "      <td>1.000000</td>\n",
       "      <td>89.400000</td>\n",
       "      <td>97.700000</td>\n",
       "      <td>91.000000</td>\n",
       "      <td>98.000000</td>\n",
       "      <td>77.890000</td>\n",
       "      <td>940000.000000</td>\n",
       "    </tr>\n",
       "  </tbody>\n",
       "</table>\n",
       "</div>"
      ],
      "text/plain": [
       "            sl_no      gender       ssc_p       hsc_p    degree_p     etest_p  \\\n",
       "count  215.000000  215.000000  215.000000  215.000000  215.000000  215.000000   \n",
       "mean   108.000000    0.353488   67.303395   66.333163   66.370186   72.100558   \n",
       "std     62.209324    0.479168   10.827205   10.897509    7.358743   13.275956   \n",
       "min      1.000000    0.000000   40.890000   37.000000   50.000000   50.000000   \n",
       "25%     54.500000    0.000000   60.600000   60.900000   61.000000   60.000000   \n",
       "50%    108.000000    0.000000   67.000000   65.000000   66.000000   71.000000   \n",
       "75%    161.500000    1.000000   75.700000   73.000000   72.000000   83.500000   \n",
       "max    215.000000    1.000000   89.400000   97.700000   91.000000   98.000000   \n",
       "\n",
       "            mba_p         salary  \n",
       "count  215.000000     148.000000  \n",
       "mean    62.278186  288655.405405  \n",
       "std      5.833385   93457.452420  \n",
       "min     51.210000  200000.000000  \n",
       "25%     57.945000  240000.000000  \n",
       "50%     62.000000  265000.000000  \n",
       "75%     66.255000  300000.000000  \n",
       "max     77.890000  940000.000000  "
      ]
     },
     "execution_count": 5,
     "metadata": {},
     "output_type": "execute_result"
    }
   ],
   "source": [
    "df.describe()"
   ]
  },
  {
   "cell_type": "code",
   "execution_count": 9,
   "id": "25b9def6",
   "metadata": {},
   "outputs": [
    {
     "data": {
      "text/plain": [
       "sl_no              0\n",
       "gender             0\n",
       "ssc_p              0\n",
       "ssc_b              0\n",
       "hsc_p              0\n",
       "hsc_b              0\n",
       "hsc_s              0\n",
       "degree_p           0\n",
       "degree_t           0\n",
       "workex             0\n",
       "etest_p            0\n",
       "specialisation     0\n",
       "mba_p              0\n",
       "status             0\n",
       "salary            67\n",
       "dtype: int64"
      ]
     },
     "execution_count": 9,
     "metadata": {},
     "output_type": "execute_result"
    }
   ],
   "source": [
    "df.isnull().sum()"
   ]
  },
  {
   "cell_type": "code",
   "execution_count": 8,
   "id": "41a90460",
   "metadata": {},
   "outputs": [
    {
     "name": "stdout",
     "output_type": "stream",
     "text": [
      "^C\n"
     ]
    }
   ],
   "source": [
    "!conda install -c conda-forge pandas-profiling"
   ]
  },
  {
   "cell_type": "code",
   "execution_count": 19,
   "id": "2654ca0b",
   "metadata": {},
   "outputs": [
    {
     "data": {
      "text/plain": [
       "0    139\n",
       "1     76\n",
       "Name: gender, dtype: int64"
      ]
     },
     "execution_count": 19,
     "metadata": {},
     "output_type": "execute_result"
    }
   ],
   "source": [
    "df['gender'].value_counts()"
   ]
  },
  {
   "cell_type": "code",
   "execution_count": 21,
   "id": "c9903b0c",
   "metadata": {},
   "outputs": [
    {
     "name": "stderr",
     "output_type": "stream",
     "text": [
      "C:\\Users\\aksha\\miniconda3\\lib\\site-packages\\seaborn\\distributions.py:2619: FutureWarning: `distplot` is a deprecated function and will be removed in a future version. Please adapt your code to use either `displot` (a figure-level function with similar flexibility) or `histplot` (an axes-level function for histograms).\n",
      "  warnings.warn(msg, FutureWarning)\n"
     ]
    },
    {
     "data": {
      "text/plain": [
       "<AxesSubplot:xlabel='salary', ylabel='Density'>"
      ]
     },
     "execution_count": 21,
     "metadata": {},
     "output_type": "execute_result"
    },
    {
     "data": {
      "image/png": "[encoded data removed]",
      "text/plain": [
       "<Figure size 432x288 with 1 Axes>"
      ]
     },
     "metadata": {
      "needs_background": "light"
     },
     "output_type": "display_data"
    }
   ],
   "source": [
    "sns.distplot(df['salary'])"
   ]
  },
  {
   "cell_type": "markdown",
   "id": "2a8a0736",
   "metadata": {},
   "source": [
    "## Filling Missing Values in Salary with Mean"
   ]
  },
  {
   "cell_type": "code",
   "execution_count": 25,
   "id": "63f6e53e",
   "metadata": {},
   "outputs": [],
   "source": [
    "def fill_salary():\n",
    "    mean_salary = df['salary'].mean()\n",
    "    df['salary'].fillna(value=mean_salary, inplace=True)"
   ]
  },
  {
   "cell_type": "code",
   "execution_count": 26,
   "id": "d8401187",
   "metadata": {},
   "outputs": [],
   "source": [
    "fill_salary()"
   ]
  },
  {
   "cell_type": "code",
   "execution_count": 28,
   "id": "8db054d5",
   "metadata": {},
   "outputs": [
    {
     "name": "stdout",
     "output_type": "stream",
     "text": [
      "<class 'pandas.core.frame.DataFrame'>\n",
      "RangeIndex: 215 entries, 0 to 214\n",
      "Data columns (total 15 columns):\n",
      " #   Column          Non-Null Count  Dtype  \n",
      "---  ------          --------------  -----  \n",
      " 0   sl_no           215 non-null    int64  \n",
      " 1   gender          215 non-null    int64  \n",
      " 2   ssc_p           215 non-null    float64\n",
      " 3   ssc_b           215 non-null    object \n",
      " 4   hsc_p           215 non-null    float64\n",
      " 5   hsc_b           215 non-null    object \n",
      " 6   hsc_s           215 non-null    object \n",
      " 7   degree_p        215 non-null    float64\n",
      " 8   degree_t        215 non-null    object \n",
      " 9   workex          215 non-null    object \n",
      " 10  etest_p         215 non-null    float64\n",
      " 11  specialisation  215 non-null    object \n",
      " 12  mba_p           215 non-null    float64\n",
      " 13  status          215 non-null    object \n",
      " 14  salary          215 non-null    float64\n",
      "dtypes: float64(6), int64(2), object(7)\n",
      "memory usage: 25.3+ KB\n"
     ]
    }
   ],
   "source": [
    "df.info()"
   ]
  },
  {
   "cell_type": "markdown",
   "id": "b9ad4dfd",
   "metadata": {},
   "source": [
    "## Now let's convert categorical data into numerical"
   ]
  },
  {
   "cell_type": "code",
   "execution_count": 29,
   "id": "d9b4b2cb",
   "metadata": {},
   "outputs": [
    {
     "data": {
      "text/plain": [
       "Central    116\n",
       "Others      99\n",
       "Name: ssc_b, dtype: int64"
      ]
     },
     "execution_count": 29,
     "metadata": {},
     "output_type": "execute_result"
    }
   ],
   "source": [
    "df['ssc_b'].value_counts()"
   ]
  },
  {
   "cell_type": "code",
   "execution_count": 38,
   "id": "86236aec",
   "metadata": {},
   "outputs": [],
   "source": [
    "df['ssc_b'].replace(to_replace=['Central','Others'],value=[1,0], inplace=True)"
   ]
  },
  {
   "cell_type": "code",
   "execution_count": 30,
   "id": "82822921",
   "metadata": {},
   "outputs": [
    {
     "data": {
      "text/plain": [
       "Others     131\n",
       "Central     84\n",
       "Name: hsc_b, dtype: int64"
      ]
     },
     "execution_count": 30,
     "metadata": {},
     "output_type": "execute_result"
    }
   ],
   "source": [
    "df['hsc_b'].value_counts()"
   ]
  },
  {
   "cell_type": "code",
   "execution_count": 39,
   "id": "d52647d4",
   "metadata": {},
   "outputs": [],
   "source": [
    "df['hsc_b'].replace(to_replace=['Central','Others'], value = [1,0], inplace=True)"
   ]
  },
  {
   "cell_type": "code",
   "execution_count": 31,
   "id": "18d54212",
   "metadata": {},
   "outputs": [
    {
     "data": {
      "text/plain": [
       "Commerce    113\n",
       "Science      91\n",
       "Arts         11\n",
       "Name: hsc_s, dtype: int64"
      ]
     },
     "execution_count": 31,
     "metadata": {},
     "output_type": "execute_result"
    }
   ],
   "source": [
    "df['hsc_s'].value_counts()"
   ]
  },
  {
   "cell_type": "code",
   "execution_count": 41,
   "id": "02c89ec5",
   "metadata": {},
   "outputs": [],
   "source": [
    "df['hsc_s'].replace(to_replace=['Commerce','Science','Arts'], value=[0,1,2], inplace=True)"
   ]
  },
  {
   "cell_type": "code",
   "execution_count": 32,
   "id": "b8b4b068",
   "metadata": {},
   "outputs": [
    {
     "data": {
      "text/plain": [
       "Comm&Mgmt    145\n",
       "Sci&Tech      59\n",
       "Others        11\n",
       "Name: degree_t, dtype: int64"
      ]
     },
     "execution_count": 32,
     "metadata": {},
     "output_type": "execute_result"
    }
   ],
   "source": [
    "df['degree_t'].value_counts()"
   ]
  },
  {
   "cell_type": "code",
   "execution_count": 42,
   "id": "a3d58658",
   "metadata": {},
   "outputs": [],
   "source": [
    "df['degree_t'].replace(to_replace=['Comm&Mgmt','Sci&Tech','Others'], value=[0,1,2], inplace=True)"
   ]
  },
  {
   "cell_type": "code",
   "execution_count": 33,
   "id": "1cb2c09f",
   "metadata": {},
   "outputs": [
    {
     "data": {
      "text/plain": [
       "No     141\n",
       "Yes     74\n",
       "Name: workex, dtype: int64"
      ]
     },
     "execution_count": 33,
     "metadata": {},
     "output_type": "execute_result"
    }
   ],
   "source": [
    "df['workex'].value_counts()"
   ]
  },
  {
   "cell_type": "code",
   "execution_count": 43,
   "id": "b9bdcbbb",
   "metadata": {},
   "outputs": [],
   "source": [
    "df['workex'].replace(to_replace=['No','Yes'], value=[0,1], inplace=True)"
   ]
  },
  {
   "cell_type": "code",
   "execution_count": 34,
   "id": "67fdb3d0",
   "metadata": {},
   "outputs": [
    {
     "data": {
      "text/plain": [
       "Mkt&Fin    120\n",
       "Mkt&HR      95\n",
       "Name: specialisation, dtype: int64"
      ]
     },
     "execution_count": 34,
     "metadata": {},
     "output_type": "execute_result"
    }
   ],
   "source": [
    "df['specialisation'].value_counts()"
   ]
  },
  {
   "cell_type": "code",
   "execution_count": 44,
   "id": "aace3f2d",
   "metadata": {},
   "outputs": [],
   "source": [
    "df['specialisation'].replace(to_replace=['Mkt&Fin','Mkt&HR'], value=[0,1], inplace=True)"
   ]
  },
  {
   "cell_type": "code",
   "execution_count": 35,
   "id": "e3ffb702",
   "metadata": {},
   "outputs": [
    {
     "data": {
      "text/plain": [
       "Placed        148\n",
       "Not Placed     67\n",
       "Name: status, dtype: int64"
      ]
     },
     "execution_count": 35,
     "metadata": {},
     "output_type": "execute_result"
    }
   ],
   "source": [
    "df['status'].value_counts()"
   ]
  },
  {
   "cell_type": "code",
   "execution_count": 46,
   "id": "50150e50",
   "metadata": {},
   "outputs": [],
   "source": [
    "df['status'].replace(to_replace=['Placed','Not Placed'],value=[1,0], inplace=True)"
   ]
  },
  {
   "cell_type": "code",
   "execution_count": 47,
   "id": "b710e122",
   "metadata": {},
   "outputs": [
    {
     "data": {
      "text/html": [
       "<div>\n",
       "<style scoped>\n",
       "    .dataframe tbody tr th:only-of-type {\n",
       "        vertical-align: middle;\n",
       "    }\n",
       "\n",
       "    .dataframe tbody tr th {\n",
       "        vertical-align: top;\n",
       "    }\n",
       "\n",
       "    .dataframe thead th {\n",
       "        text-align: right;\n",
       "    }\n",
       "</style>\n",
       "<table border=\"1\" class=\"dataframe\">\n",
       "  <thead>\n",
       "    <tr style=\"text-align: right;\">\n",
       "      <th></th>\n",
       "      <th>sl_no</th>\n",
       "      <th>gender</th>\n",
       "      <th>ssc_p</th>\n",
       "      <th>ssc_b</th>\n",
       "      <th>hsc_p</th>\n",
       "      <th>hsc_b</th>\n",
       "      <th>hsc_s</th>\n",
       "      <th>degree_p</th>\n",
       "      <th>degree_t</th>\n",
       "      <th>workex</th>\n",
       "      <th>etest_p</th>\n",
       "      <th>specialisation</th>\n",
       "      <th>mba_p</th>\n",
       "      <th>status</th>\n",
       "      <th>salary</th>\n",
       "    </tr>\n",
       "  </thead>\n",
       "  <tbody>\n",
       "    <tr>\n",
       "      <th>0</th>\n",
       "      <td>1</td>\n",
       "      <td>0</td>\n",
       "      <td>67.00</td>\n",
       "      <td>0</td>\n",
       "      <td>91.00</td>\n",
       "      <td>0</td>\n",
       "      <td>0</td>\n",
       "      <td>58.00</td>\n",
       "      <td>1</td>\n",
       "      <td>0</td>\n",
       "      <td>55.0</td>\n",
       "      <td>1</td>\n",
       "      <td>58.80</td>\n",
       "      <td>1</td>\n",
       "      <td>270000.000000</td>\n",
       "    </tr>\n",
       "    <tr>\n",
       "      <th>1</th>\n",
       "      <td>2</td>\n",
       "      <td>0</td>\n",
       "      <td>79.33</td>\n",
       "      <td>1</td>\n",
       "      <td>78.33</td>\n",
       "      <td>0</td>\n",
       "      <td>1</td>\n",
       "      <td>77.48</td>\n",
       "      <td>1</td>\n",
       "      <td>1</td>\n",
       "      <td>86.5</td>\n",
       "      <td>0</td>\n",
       "      <td>66.28</td>\n",
       "      <td>1</td>\n",
       "      <td>200000.000000</td>\n",
       "    </tr>\n",
       "    <tr>\n",
       "      <th>2</th>\n",
       "      <td>3</td>\n",
       "      <td>0</td>\n",
       "      <td>65.00</td>\n",
       "      <td>1</td>\n",
       "      <td>68.00</td>\n",
       "      <td>1</td>\n",
       "      <td>2</td>\n",
       "      <td>64.00</td>\n",
       "      <td>0</td>\n",
       "      <td>0</td>\n",
       "      <td>75.0</td>\n",
       "      <td>0</td>\n",
       "      <td>57.80</td>\n",
       "      <td>1</td>\n",
       "      <td>250000.000000</td>\n",
       "    </tr>\n",
       "    <tr>\n",
       "      <th>3</th>\n",
       "      <td>4</td>\n",
       "      <td>0</td>\n",
       "      <td>56.00</td>\n",
       "      <td>1</td>\n",
       "      <td>52.00</td>\n",
       "      <td>1</td>\n",
       "      <td>1</td>\n",
       "      <td>52.00</td>\n",
       "      <td>1</td>\n",
       "      <td>0</td>\n",
       "      <td>66.0</td>\n",
       "      <td>1</td>\n",
       "      <td>59.43</td>\n",
       "      <td>0</td>\n",
       "      <td>288655.405405</td>\n",
       "    </tr>\n",
       "    <tr>\n",
       "      <th>4</th>\n",
       "      <td>5</td>\n",
       "      <td>0</td>\n",
       "      <td>85.80</td>\n",
       "      <td>1</td>\n",
       "      <td>73.60</td>\n",
       "      <td>1</td>\n",
       "      <td>0</td>\n",
       "      <td>73.30</td>\n",
       "      <td>0</td>\n",
       "      <td>0</td>\n",
       "      <td>96.8</td>\n",
       "      <td>0</td>\n",
       "      <td>55.50</td>\n",
       "      <td>1</td>\n",
       "      <td>425000.000000</td>\n",
       "    </tr>\n",
       "    <tr>\n",
       "      <th>...</th>\n",
       "      <td>...</td>\n",
       "      <td>...</td>\n",
       "      <td>...</td>\n",
       "      <td>...</td>\n",
       "      <td>...</td>\n",
       "      <td>...</td>\n",
       "      <td>...</td>\n",
       "      <td>...</td>\n",
       "      <td>...</td>\n",
       "      <td>...</td>\n",
       "      <td>...</td>\n",
       "      <td>...</td>\n",
       "      <td>...</td>\n",
       "      <td>...</td>\n",
       "      <td>...</td>\n",
       "    </tr>\n",
       "    <tr>\n",
       "      <th>210</th>\n",
       "      <td>211</td>\n",
       "      <td>0</td>\n",
       "      <td>80.60</td>\n",
       "      <td>0</td>\n",
       "      <td>82.00</td>\n",
       "      <td>0</td>\n",
       "      <td>0</td>\n",
       "      <td>77.60</td>\n",
       "      <td>0</td>\n",
       "      <td>0</td>\n",
       "      <td>91.0</td>\n",
       "      <td>0</td>\n",
       "      <td>74.49</td>\n",
       "      <td>1</td>\n",
       "      <td>400000.000000</td>\n",
       "    </tr>\n",
       "    <tr>\n",
       "      <th>211</th>\n",
       "      <td>212</td>\n",
       "      <td>0</td>\n",
       "      <td>58.00</td>\n",
       "      <td>0</td>\n",
       "      <td>60.00</td>\n",
       "      <td>0</td>\n",
       "      <td>1</td>\n",
       "      <td>72.00</td>\n",
       "      <td>1</td>\n",
       "      <td>0</td>\n",
       "      <td>74.0</td>\n",
       "      <td>0</td>\n",
       "      <td>53.62</td>\n",
       "      <td>1</td>\n",
       "      <td>275000.000000</td>\n",
       "    </tr>\n",
       "    <tr>\n",
       "      <th>212</th>\n",
       "      <td>213</td>\n",
       "      <td>0</td>\n",
       "      <td>67.00</td>\n",
       "      <td>0</td>\n",
       "      <td>67.00</td>\n",
       "      <td>0</td>\n",
       "      <td>0</td>\n",
       "      <td>73.00</td>\n",
       "      <td>0</td>\n",
       "      <td>1</td>\n",
       "      <td>59.0</td>\n",
       "      <td>0</td>\n",
       "      <td>69.72</td>\n",
       "      <td>1</td>\n",
       "      <td>295000.000000</td>\n",
       "    </tr>\n",
       "    <tr>\n",
       "      <th>213</th>\n",
       "      <td>214</td>\n",
       "      <td>1</td>\n",
       "      <td>74.00</td>\n",
       "      <td>0</td>\n",
       "      <td>66.00</td>\n",
       "      <td>0</td>\n",
       "      <td>0</td>\n",
       "      <td>58.00</td>\n",
       "      <td>0</td>\n",
       "      <td>0</td>\n",
       "      <td>70.0</td>\n",
       "      <td>1</td>\n",
       "      <td>60.23</td>\n",
       "      <td>1</td>\n",
       "      <td>204000.000000</td>\n",
       "    </tr>\n",
       "    <tr>\n",
       "      <th>214</th>\n",
       "      <td>215</td>\n",
       "      <td>0</td>\n",
       "      <td>62.00</td>\n",
       "      <td>1</td>\n",
       "      <td>58.00</td>\n",
       "      <td>0</td>\n",
       "      <td>1</td>\n",
       "      <td>53.00</td>\n",
       "      <td>0</td>\n",
       "      <td>0</td>\n",
       "      <td>89.0</td>\n",
       "      <td>1</td>\n",
       "      <td>60.22</td>\n",
       "      <td>0</td>\n",
       "      <td>288655.405405</td>\n",
       "    </tr>\n",
       "  </tbody>\n",
       "</table>\n",
       "<p>215 rows × 15 columns</p>\n",
       "</div>"
      ],
      "text/plain": [
       "     sl_no  gender  ssc_p  ssc_b  hsc_p  hsc_b  hsc_s  degree_p  degree_t  \\\n",
       "0        1       0  67.00      0  91.00      0      0     58.00         1   \n",
       "1        2       0  79.33      1  78.33      0      1     77.48         1   \n",
       "2        3       0  65.00      1  68.00      1      2     64.00         0   \n",
       "3        4       0  56.00      1  52.00      1      1     52.00         1   \n",
       "4        5       0  85.80      1  73.60      1      0     73.30         0   \n",
       "..     ...     ...    ...    ...    ...    ...    ...       ...       ...   \n",
       "210    211       0  80.60      0  82.00      0      0     77.60         0   \n",
       "211    212       0  58.00      0  60.00      0      1     72.00         1   \n",
       "212    213       0  67.00      0  67.00      0      0     73.00         0   \n",
       "213    214       1  74.00      0  66.00      0      0     58.00         0   \n",
       "214    215       0  62.00      1  58.00      0      1     53.00         0   \n",
       "\n",
       "     workex  etest_p  specialisation  mba_p  status         salary  \n",
       "0         0     55.0               1  58.80       1  270000.000000  \n",
       "1         1     86.5               0  66.28       1  200000.000000  \n",
       "2         0     75.0               0  57.80       1  250000.000000  \n",
       "3         0     66.0               1  59.43       0  288655.405405  \n",
       "4         0     96.8               0  55.50       1  425000.000000  \n",
       "..      ...      ...             ...    ...     ...            ...  \n",
       "210       0     91.0               0  74.49       1  400000.000000  \n",
       "211       0     74.0               0  53.62       1  275000.000000  \n",
       "212       1     59.0               0  69.72       1  295000.000000  \n",
       "213       0     70.0               1  60.23       1  204000.000000  \n",
       "214       0     89.0               1  60.22       0  288655.405405  \n",
       "\n",
       "[215 rows x 15 columns]"
      ]
     },
     "execution_count": 47,
     "metadata": {},
     "output_type": "execute_result"
    }
   ],
   "source": [
    "df"
   ]
  },
  {
   "cell_type": "code",
   "execution_count": 48,
   "id": "59ba7662",
   "metadata": {},
   "outputs": [],
   "source": [
    "df.to_csv('dataset/train_clean.csv',index=False)"
   ]
  },
  {
   "cell_type": "code",
   "execution_count": 53,
   "id": "028d85d6",
   "metadata": {},
   "outputs": [
    {
     "data": {
      "text/plain": [
       "<AxesSubplot:>"
      ]
     },
     "execution_count": 53,
     "metadata": {},
     "output_type": "execute_result"
    },
    {
     "data": {
      "image/png": "[encoded data removed]",
      "text/plain": [
       "<Figure size 1080x1080 with 2 Axes>"
      ]
     },
     "metadata": {
      "needs_background": "light"
     },
     "output_type": "display_data"
    }
   ],
   "source": [
    "plt.figure(figsize=(15,15))\n",
    "sns.heatmap(df.corr(), annot=True)"
   ]
  },
  {
   "cell_type": "code",
   "execution_count": 54,
   "id": "73ea61f0",
   "metadata": {},
   "outputs": [],
   "source": [
    "from sklearn.model_selection import train_test_split"
   ]
  },
  {
   "cell_type": "code",
   "execution_count": 56,
   "id": "47d49daf",
   "metadata": {},
   "outputs": [],
   "source": [
    "X = df.drop(columns=['status'], axis=1)\n",
    "y = df['status']"
   ]
  },
  {
   "cell_type": "code",
   "execution_count": 57,
   "id": "0f688c36",
   "metadata": {},
   "outputs": [],
   "source": [
    "X_train, X_test, y_train, y_test = train_test_split(X,y,test_size=0.3)"
   ]
  },
  {
   "cell_type": "code",
   "execution_count": 60,
   "id": "6f9cfef1",
   "metadata": {},
   "outputs": [
    {
     "data": {
      "text/plain": [
       "((150, 14), (150,), (65, 14), (65,))"
      ]
     },
     "execution_count": 60,
     "metadata": {},
     "output_type": "execute_result"
    }
   ],
   "source": [
    "X_train.shape, y_train.shape, X_test.shape, y_test.shape"
   ]
  },
  {
   "cell_type": "code",
   "execution_count": 62,
   "id": "129a89d5",
   "metadata": {},
   "outputs": [],
   "source": [
    "from sklearn.preprocessing import StandardScaler"
   ]
  },
  {
   "cell_type": "code",
   "execution_count": 63,
   "id": "35a6e0d2",
   "metadata": {},
   "outputs": [],
   "source": [
    "scaler = StandardScaler()"
   ]
  },
  {
   "cell_type": "code",
   "execution_count": 65,
   "id": "fd1f7009",
   "metadata": {},
   "outputs": [],
   "source": [
    "X_train = scaler.fit_transform(X_train)\n",
    "X_test = scaler.transform(X_test)"
   ]
  },
  {
   "cell_type": "code",
   "execution_count": 67,
   "id": "2a351bfc",
   "metadata": {},
   "outputs": [],
   "source": [
    "pickle.dump(scaler,open('scaling.pkl','wb'))"
   ]
  },
  {
   "cell_type": "code",
   "execution_count": 69,
   "id": "3d7d19ba",
   "metadata": {},
   "outputs": [
    {
     "data": {
      "text/plain": [
       "array([[ 0.68421728, -0.72843136, -1.69698067, ..., -0.85096294,\n",
       "         0.07741824,  0.62192014],\n",
       "       [-0.02305173, -0.72843136, -0.54746812, ..., -0.85096294,\n",
       "        -0.62951764,  0.13428177],\n",
       "       [-1.26470178, -0.72843136, -0.45167541, ..., -0.85096294,\n",
       "        -1.81961114, -0.00401972],\n",
       "       ...,\n",
       "       [ 0.38559259,  1.37281295,  1.02736407, ..., -0.85096294,\n",
       "         0.86572803, -0.47526619],\n",
       "       [-0.19593971,  1.37281295,  0.36256264, ..., -0.85096294,\n",
       "         1.18783311, -0.00401972],\n",
       "       [ 0.54276348, -0.72843136, -1.40960253, ..., -0.85096294,\n",
       "        -0.59391656, -0.00401972]])"
      ]
     },
     "execution_count": 69,
     "metadata": {},
     "output_type": "execute_result"
    }
   ],
   "source": [
    "X_train"
   ]
  },
  {
   "cell_type": "code",
   "execution_count": 70,
   "id": "6dad6c6a",
   "metadata": {},
   "outputs": [
    {
     "data": {
      "text/plain": [
       "array([[ 1.06142743e+00,  1.37281295e+00,  6.02044425e-01,\n",
       "         8.86405260e-01,  2.96138362e+00, -8.39372060e-01,\n",
       "        -8.71195751e-01,  1.75659786e+00, -6.47005585e-01,\n",
       "         1.37281295e+00,  1.26006552e+00, -8.50962943e-01,\n",
       "         1.48959471e+00,  4.40111751e+00],\n",
       "       [ 1.17144705e+00,  1.37281295e+00, -9.99609726e-01,\n",
       "        -1.12815215e+00, -2.09585235e-01, -8.39372060e-01,\n",
       "        -8.71195751e-01, -8.61887395e-01, -6.47005585e-01,\n",
       "        -7.28431359e-01, -9.02927952e-01,  1.17513930e+00,\n",
       "        -8.02437212e-01, -4.01972170e-03],\n",
       "       [-1.59476065e+00, -7.28431359e-01,  6.02044425e-01,\n",
       "         8.86405260e-01,  1.29098739e+00,  1.19136679e+00,\n",
       "        -8.71195751e-01,  8.02438738e-01, -6.47005585e-01,\n",
       "        -7.28431359e-01,  1.43459672e+00, -8.50962943e-01,\n",
       "        -1.24321258e-01, -7.06894420e-01],\n",
       "       [-1.33071356e-01, -7.28431359e-01, -3.55882699e-01,\n",
       "         8.86405260e-01,  6.41388849e-01,  1.19136679e+00,\n",
       "        -8.71195751e-01,  2.57204952e-01, -6.47005585e-01,\n",
       "        -7.28431359e-01,  4.39619722e-01,  1.17513930e+00,\n",
       "        -2.68420898e-01,  1.10955851e+00],\n",
       "       [ 5.27046392e-01, -7.28431359e-01,  1.04939639e+00,\n",
       "        -1.12815215e+00, -1.84176652e-02, -8.39372060e-01,\n",
       "        -8.71195751e-01,  6.21148504e-01, -6.47005585e-01,\n",
       "        -7.28431359e-01,  1.26006552e+00, -8.50962943e-01,\n",
       "        -2.76897348e-01,  1.34281769e-01],\n",
       "       [-1.09181380e+00,  1.37281295e+00,  1.08100799e+00,\n",
       "         8.86405260e-01,  1.10538780e+00, -8.39372060e-01,\n",
       "        -8.71195751e-01,  1.89290631e+00, -6.47005585e-01,\n",
       "        -7.28431359e-01, -9.02927952e-01, -8.50962943e-01,\n",
       "         7.96221149e-01, -2.42007016e-02],\n",
       "       [-8.24623282e-01, -7.28431359e-01,  1.23080863e-01,\n",
       "         8.86405260e-01,  1.01258801e+00,  1.19136679e+00,\n",
       "        -8.71195751e-01,  1.07505563e+00, -6.47005585e-01,\n",
       "        -7.28431359e-01,  5.88791686e-01, -8.50962943e-01,\n",
       "         2.65595415e-01,  8.65739325e-01],\n",
       "       [-1.43758976e+00,  1.37281295e+00, -3.55882699e-01,\n",
       "         8.86405260e-01,  8.45901028e-02,  1.19136679e+00,\n",
       "        -8.71195751e-01, -2.88028835e-01, -6.47005585e-01,\n",
       "        -7.28431359e-01, -3.06240097e-01,  1.17513930e+00,\n",
       "         3.48664619e-01, -4.01972170e-03],\n",
       "       [ 8.72822356e-01,  1.37281295e+00, -3.27144885e-01,\n",
       "         8.86405260e-01,  1.22881153e+00, -8.39372060e-01,\n",
       "        -8.71195751e-01,  1.07505563e+00, -6.47005585e-01,\n",
       "        -7.28431359e-01,  5.88791686e-01, -8.50962943e-01,\n",
       "         2.12532842e+00, -4.01972170e-03],\n",
       "       [-1.54760939e+00, -7.28431359e-01,  2.76349203e-01,\n",
       "         8.86405260e-01,  3.07309601e-01,  1.19136679e+00,\n",
       "        -8.71195751e-01,  1.66118195e+00, -6.47005585e-01,\n",
       "         1.37281295e+00, -9.02927952e-01, -8.50962943e-01,\n",
       "         2.84243604e-01, -4.75266194e-01],\n",
       "       [ 2.91290054e-01, -7.28431359e-01,  1.31091050e+00,\n",
       "         8.86405260e-01,  7.71308556e-01,  1.19136679e+00,\n",
       "         8.04180693e-01,  1.58212305e+00,  1.02628472e+00,\n",
       "         1.37281295e+00,  6.78294864e-01,  1.17513930e+00,\n",
       "         2.41352770e+00,  1.35337770e+00],\n",
       "       [-2.27373891e-01, -7.28431359e-01,  6.02044425e-01,\n",
       "         8.86405260e-01,  1.19818760e+00, -8.39372060e-01,\n",
       "        -8.71195751e-01, -1.51720388e-01, -6.47005585e-01,\n",
       "         1.37281295e+00,  1.74189097e+00, -8.50962943e-01,\n",
       "         2.31689617e-02,  1.59719688e+00],\n",
       "       [ 6.52783106e-01, -7.28431359e-01, -1.64297274e-01,\n",
       "         8.86405260e-01, -8.20968818e-03,  1.19136679e+00,\n",
       "        -8.71195751e-01,  1.21136408e+00, -6.47005585e-01,\n",
       "        -7.28431359e-01,  8.12549632e-01, -8.50962943e-01,\n",
       "        -5.34581410e-01, -2.31447009e-01],\n",
       "       [ 7.15651463e-01, -7.28431359e-01, -1.45079340e+00,\n",
       "        -1.12815215e+00,  8.88236293e-01, -8.39372060e-01,\n",
       "        -8.71195751e-01, -8.46893466e-01, -6.47005585e-01,\n",
       "         1.37281295e+00, -1.19008398e+00,  1.17513930e+00,\n",
       "         6.72464987e-01, -4.01972170e-03],\n",
       "       [-5.73149854e-01, -7.28431359e-01, -2.02614359e-01,\n",
       "         8.86405260e-01,  1.73921038e+00, -8.39372060e-01,\n",
       "        -8.71195751e-01,  7.64272373e-01, -6.47005585e-01,\n",
       "        -7.28431359e-01,  1.03630758e+00, -8.50962943e-01,\n",
       "        -3.85395900e-01, -8.65376891e-01],\n",
       "       [-3.68827694e-01, -7.28431359e-01, -4.51675411e-01,\n",
       "        -1.12815215e+00, -1.93809270e-01, -8.39372060e-01,\n",
       "        -8.71195751e-01, -2.88028835e-01, -6.47005585e-01,\n",
       "        -7.28431359e-01, -3.80826079e-01, -8.50962943e-01,\n",
       "        -8.46514749e-01, -8.40994972e-01],\n",
       "       [ 5.58480571e-01, -7.28431359e-01,  2.17304491e+00,\n",
       "        -1.12815215e+00,  5.30381739e-02, -8.39372060e-01,\n",
       "         8.04180693e-01,  7.00207403e-01,  1.02628472e+00,\n",
       "        -7.28431359e-01, -7.89616929e-03,  1.17513930e+00,\n",
       "         2.04564979e-01,  1.35337770e+00],\n",
       "       [-2.11656802e-01,  1.37281295e+00,  8.89422562e-01,\n",
       "         8.86405260e-01,  4.55789267e-01,  1.19136679e+00,\n",
       "         8.04180693e-01,  1.34767252e+00, -6.47005585e-01,\n",
       "         1.37281295e+00, -4.55412061e-01, -8.50962943e-01,\n",
       "         4.09695055e-01,  1.34281769e-01],\n",
       "       [-1.01637177e-01, -7.28431359e-01,  6.02044425e-01,\n",
       "         8.86405260e-01,  1.19818760e+00,  1.19136679e+00,\n",
       "         8.04180693e-01,  9.38747185e-01,  1.02628472e+00,\n",
       "         1.37281295e+00,  9.61721596e-01,  1.17513930e+00,\n",
       "         6.45340349e-01, -5.97175787e-01],\n",
       "       [ 2.75572965e-01,  1.37281295e+00,  5.06251712e-01,\n",
       "        -1.12815215e+00, -4.72208643e-01, -8.39372060e-01,\n",
       "         8.04180693e-01,  3.93513398e-01, -6.47005585e-01,\n",
       "        -7.28431359e-01, -1.23856487e+00,  1.17513930e+00,\n",
       "        -6.14260035e-01, -4.75266194e-01],\n",
       "       [ 1.40720339e+00, -7.28431359e-01,  2.18873575e-01,\n",
       "        -1.12815215e+00, -8.20968818e-03, -8.39372060e-01,\n",
       "        -8.71195751e-01, -1.24218796e+00, -6.47005585e-01,\n",
       "        -7.28431359e-01,  6.66898126e-02,  1.17513930e+00,\n",
       "        -1.05503540e+00, -2.92401805e-01],\n",
       "       [ 1.21859832e+00, -7.28431359e-01,  1.12890434e+00,\n",
       "         8.86405260e-01,  3.81902073e-02,  1.19136679e+00,\n",
       "         8.04180693e-01,  1.20896505e-01,  1.02628472e+00,\n",
       "         1.37281295e+00,  1.70758141e+00, -8.50962943e-01,\n",
       "         4.80897230e-01, -1.09537416e-01],\n",
       "       [ 3.98166261e-02, -7.28431359e-01, -8.34846260e-01,\n",
       "        -1.12815215e+00, -3.79408852e-01, -8.39372060e-01,\n",
       "        -8.71195751e-01, -6.96954175e-01, -6.47005585e-01,\n",
       "        -7.28431359e-01, -1.05209992e+00,  1.17513930e+00,\n",
       "        -1.37035932e+00, -4.75266194e-01],\n",
       "       [ 6.68500196e-01,  1.37281295e+00,  8.31946934e-01,\n",
       "        -1.12815215e+00, -4.25808748e-01,  1.19136679e+00,\n",
       "         8.04180693e-01,  2.43814010e+00,  1.02628472e+00,\n",
       "        -7.28431359e-01,  1.93133936e+00, -8.50962943e-01,\n",
       "         5.47013536e-01, -5.97175787e-01],\n",
       "       [ 1.15572996e+00, -7.28431359e-01, -1.64297274e-01,\n",
       "         8.86405260e-01,  1.10538780e+00,  1.19136679e+00,\n",
       "        -8.71195751e-01,  3.93513398e-01, -6.47005585e-01,\n",
       "        -7.28431359e-01, -9.02927952e-01,  1.17513930e+00,\n",
       "        -3.44708943e-02, -1.58301253e-01],\n",
       "       [-1.67334610e+00, -7.28431359e-01, -1.02643169e+00,\n",
       "         8.86405260e-01, -1.21460697e+00,  1.19136679e+00,\n",
       "         8.04180693e-01, -1.92373019e+00,  1.02628472e+00,\n",
       "        -7.28431359e-01, -4.55412061e-01,  1.17513930e+00,\n",
       "        -4.39645177e-01, -4.01972170e-03],\n",
       "       [-4.47413140e-01, -7.28431359e-01,  1.43544102e+00,\n",
       "        -1.12815215e+00, -1.93809270e-01, -8.39372060e-01,\n",
       "         8.04180693e-01,  1.20896505e-01, -6.47005585e-01,\n",
       "         1.37281295e+00,  1.03630758e+00, -8.50962943e-01,\n",
       "         1.38618203e+00,  1.34281769e-01],\n",
       "       [ 9.67124891e-01, -7.28431359e-01,  1.27259341e+00,\n",
       "        -1.12815215e+00,  1.38378718e+00, -8.39372060e-01,\n",
       "        -8.71195751e-01,  8.02438738e-01, -6.47005585e-01,\n",
       "         1.37281295e+00, -6.20247081e-01, -8.50962943e-01,\n",
       "         6.80941437e-01,  1.23721762e-02],\n",
       "       [-6.67452390e-01, -7.28431359e-01,  1.36072271e+00,\n",
       "        -1.12815215e+00,  1.24458749e+00, -8.39372060e-01,\n",
       "        -8.71195751e-01,  1.20896505e-01, -6.47005585e-01,\n",
       "        -7.28431359e-01, -2.53284050e-01, -8.50962943e-01,\n",
       "        -1.75179955e-01, -1.70492213e-01],\n",
       "       [ 8.88539445e-01, -7.28431359e-01, -4.51675411e-01,\n",
       "        -1.12815215e+00, -2.86609061e-01, -8.39372060e-01,\n",
       "        -8.71195751e-01, -8.33262622e-01, -6.47005585e-01,\n",
       "         1.37281295e+00, -6.79170007e-01,  1.17513930e+00,\n",
       "        -1.63482454e+00, -5.97175787e-01],\n",
       "       [ 2.40995368e-02, -7.28431359e-01, -1.50539525e+00,\n",
       "        -1.12815215e+00, -1.02900739e+00, -8.39372060e-01,\n",
       "         8.04180693e-01, -6.96954175e-01,  1.02628472e+00,\n",
       "        -7.28431359e-01, -9.02927952e-01,  1.17513930e+00,\n",
       "        -2.34515101e-01, -4.01972170e-03],\n",
       "       [-4.15978962e-01, -7.28431359e-01,  1.65576426e+00,\n",
       "        -1.12815215e+00,  1.29098739e+00, -8.39372060e-01,\n",
       "         8.04180693e-01,  2.57204952e-01,  1.02628472e+00,\n",
       "         1.37281295e+00,  8.87135614e-01, -8.50962943e-01,\n",
       "         7.91135279e-01,  1.34281769e-01],\n",
       "       [-6.98886568e-01, -7.28431359e-01, -1.21801711e+00,\n",
       "        -1.12815215e+00, -1.67860593e+00, -8.39372060e-01,\n",
       "         8.04180693e-01, -1.24218796e+00, -6.47005585e-01,\n",
       "        -7.28431359e-01,  1.31152985e+00,  1.17513930e+00,\n",
       "        -8.34647719e-01, -4.01972170e-03],\n",
       "       [ 4.17026768e-01,  1.37281295e+00, -1.88856610e+00,\n",
       "         8.86405260e-01, -5.65008434e-01,  1.19136679e+00,\n",
       "         2.47955714e+00, -2.88028835e-01, -6.47005585e-01,\n",
       "        -7.28431359e-01,  4.39619722e-01, -8.50962943e-01,\n",
       "        -7.51578515e-02, -4.01972170e-03],\n",
       "       [ 9.98559070e-01,  1.37281295e+00, -1.40960253e+00,\n",
       "        -1.12815215e+00, -1.21460697e+00, -8.39372060e-01,\n",
       "         8.04180693e-01, -1.51480485e+00,  1.02628472e+00,\n",
       "        -7.28431359e-01, -3.80826079e-01,  1.17513930e+00,\n",
       "        -4.58293365e-01, -4.01972170e-03],\n",
       "       [-7.77472014e-01, -7.28431359e-01,  6.97837137e-01,\n",
       "         8.86405260e-01,  4.55789267e-01,  1.19136679e+00,\n",
       "         8.04180693e-01,  8.02438738e-01, -6.47005585e-01,\n",
       "         1.37281295e+00, -9.02927952e-01, -8.50962943e-01,\n",
       "        -8.10913661e-01, -3.53356602e-01],\n",
       "       [-2.58808069e-01, -7.28431359e-01, -1.40960253e+00,\n",
       "         8.86405260e-01, -2.86609061e-01,  1.19136679e+00,\n",
       "        -8.71195751e-01, -1.65111330e+00, -6.47005585e-01,\n",
       "        -7.28431359e-01, -7.89616929e-03,  1.17513930e+00,\n",
       "        -1.12115171e+00, -4.01972170e-03],\n",
       "       [ 1.81270429e-01,  1.37281295e+00, -2.60089986e-01,\n",
       "         8.86405260e-01,  1.77389894e-01, -8.39372060e-01,\n",
       "         8.04180693e-01,  4.75298466e-01,  1.02628472e+00,\n",
       "         1.37281295e+00, -1.22588525e+00,  1.17513930e+00,\n",
       "         1.60487442e+00, -4.75266194e-01],\n",
       "       [-1.53189230e+00,  1.37281295e+00, -1.88856610e+00,\n",
       "         8.86405260e-01, -9.36207598e-01, -8.39372060e-01,\n",
       "         8.04180693e-01, -1.51720388e-01, -6.47005585e-01,\n",
       "        -7.28431359e-01, -7.53755988e-01,  1.17513930e+00,\n",
       "         5.11412448e-01, -4.01972170e-03],\n",
       "       [-1.28041887e+00, -7.28431359e-01,  9.62225023e-01,\n",
       "        -1.12815215e+00,  1.05898791e+00, -8.39372060e-01,\n",
       "        -8.71195751e-01,  1.89050728e-01, -6.47005585e-01,\n",
       "         1.37281295e+00,  9.27949063e-02, -8.50962943e-01,\n",
       "         3.60531649e-01,  7.43829732e-01],\n",
       "       [ 8.69678938e-02,  1.37281295e+00,  6.02044425e-01,\n",
       "        -1.12815215e+00, -1.93809270e-01, -8.39372060e-01,\n",
       "         8.04180693e-01, -1.54119417e-02, -6.47005585e-01,\n",
       "        -7.28431359e-01,  1.26006552e+00, -8.50962943e-01,\n",
       "        -2.58249159e-01, -8.89758809e-01],\n",
       "       [ 1.47007175e+00, -7.28431359e-01, -1.05708535e+00,\n",
       "        -1.12815215e+00, -3.48784921e-01, -8.39372060e-01,\n",
       "        -8.71195751e-01, -1.25990806e+00, -6.47005585e-01,\n",
       "        -7.28431359e-01, -4.55412061e-01,  1.17513930e+00,\n",
       "        -6.31212933e-01, -3.53356602e-01],\n",
       "       [-1.64505534e-01, -7.28431359e-01, -1.21801711e+00,\n",
       "         8.86405260e-01,  1.56938676e+00, -8.39372060e-01,\n",
       "        -8.71195751e-01, -4.24337282e-01,  1.02628472e+00,\n",
       "        -7.28431359e-01, -1.64878777e+00, -8.50962943e-01,\n",
       "        -4.32864017e-01, -4.01972170e-03],\n",
       "       [ 9.51407802e-01,  1.37281295e+00, -3.17565614e-01,\n",
       "        -1.12815215e+00,  1.95949852e-01, -8.39372060e-01,\n",
       "        -8.71195751e-01, -8.33262622e-01, -6.47005585e-01,\n",
       "        -7.28431359e-01, -1.04762476e+00,  1.17513930e+00,\n",
       "         1.23021536e+00, -4.01972170e-03],\n",
       "       [-1.10753089e+00, -7.28431359e-01,  1.36838612e+00,\n",
       "        -1.12815215e+00,  2.70189685e-01, -8.39372060e-01,\n",
       "         8.04180693e-01, -2.88028835e-01,  1.02628472e+00,\n",
       "        -7.28431359e-01,  1.55840945e+00, -8.50962943e-01,\n",
       "         9.09805571e-02,  1.48747825e+00],\n",
       "       [ 4.48460946e-01,  1.37281295e+00,  1.46417884e+00,\n",
       "        -1.12815215e+00, -1.01009479e-01, -8.39372060e-01,\n",
       "         8.04180693e-01,  9.38747185e-01,  1.02628472e+00,\n",
       "         1.37281295e+00,  1.78216740e+00, -8.50962943e-01,\n",
       "         1.65234254e+00, -4.75266194e-01],\n",
       "       [-9.03208728e-01,  1.37281295e+00, -2.47385957e+00,\n",
       "        -1.12815215e+00, -1.78718168e+00, -8.39372060e-01,\n",
       "        -8.71195751e-01, -1.78742175e+00, -6.47005585e-01,\n",
       "        -7.28431359e-01, -6.75649548e-02,  1.17513930e+00,\n",
       "         5.87700493e-01, -4.01972170e-03],\n",
       "       [ 3.54158411e-01, -7.28431359e-01,  2.72881507e-02,\n",
       "        -1.12815215e+00,  2.70189685e-01, -8.39372060e-01,\n",
       "        -8.71195751e-01, -2.88028835e-01, -6.47005585e-01,\n",
       "         1.37281295e+00,  1.71110187e-01,  1.17513930e+00,\n",
       "        -1.44664737e+00,  1.34281769e-01],\n",
       "       [-8.56057460e-01, -7.28431359e-01, -6.04943751e-01,\n",
       "         8.86405260e-01,  1.40269977e-01, -8.39372060e-01,\n",
       "         8.04180693e-01, -1.51720388e-01, -6.47005585e-01,\n",
       "        -7.28431359e-01, -8.24821512e-02,  1.17513930e+00,\n",
       "        -1.57887998e+00, -8.40994972e-01],\n",
       "       [ 4.79895125e-01, -7.28431359e-01, -1.64297274e-01,\n",
       "         8.86405260e-01, -2.67696464e-02, -8.39372060e-01,\n",
       "        -8.71195751e-01,  4.61667622e-01, -6.47005585e-01,\n",
       "         1.37281295e+00, -1.20127188e+00, -8.50962943e-01,\n",
       "        -8.61772358e-01, -2.92401805e-01],\n",
       "       [-1.68906319e+00, -7.28431359e-01, -1.64297274e-01,\n",
       "         8.86405260e-01,  2.70189685e-01,  1.19136679e+00,\n",
       "         2.47955714e+00, -2.88028835e-01, -6.47005585e-01,\n",
       "        -7.28431359e-01,  2.15861776e-01, -8.50962943e-01,\n",
       "        -7.15977428e-01, -4.75266194e-01],\n",
       "       [-9.18925817e-01, -7.28431359e-01, -1.17970002e+00,\n",
       "         8.86405260e-01, -3.68272877e-01,  1.19136679e+00,\n",
       "        -8.71195751e-01, -1.35123472e+00, -6.47005585e-01,\n",
       "        -7.28431359e-01, -3.80826079e-01,  1.17513930e+00,\n",
       "         1.06238166e-01, -4.01972170e-03],\n",
       "       [ 1.18716414e+00,  1.37281295e+00,  2.03893511e+00,\n",
       "         8.86405260e-01,  6.41388849e-01,  1.19136679e+00,\n",
       "         8.04180693e-01,  1.62028942e+00,  2.69957503e+00,\n",
       "        -7.28431359e-01,  7.37963650e-01,  1.17513930e+00,\n",
       "         1.59470268e+00, -4.50884276e-01],\n",
       "       [-9.97511264e-01,  1.37281295e+00,  3.99921802e-01,\n",
       "        -1.12815215e+00,  6.39532853e-01, -8.39372060e-01,\n",
       "         8.04180693e-01, -6.99353204e-02, -6.47005585e-01,\n",
       "        -7.28431359e-01, -3.06240097e-01,  1.17513930e+00,\n",
       "         1.62860848e+00, -4.01972170e-03],\n",
       "       [-6.83169479e-01, -7.28431359e-01,  1.55997155e+00,\n",
       "        -1.12815215e+00,  8.26988431e-01, -8.39372060e-01,\n",
       "         8.04180693e-01, -1.54119417e-02, -6.47005585e-01,\n",
       "        -7.28431359e-01, -2.37620994e-01,  1.17513930e+00,\n",
       "        -6.04088295e-01, -1.70492213e-01],\n",
       "       [ 6.05631839e-01,  1.37281295e+00,  9.85215274e-01,\n",
       "         8.86405260e-01,  1.94058592e+00,  1.19136679e+00,\n",
       "         2.47955714e+00, -1.37849641e+00,  2.69957503e+00,\n",
       "        -7.28431359e-01, -1.12668590e+00, -8.50962943e-01,\n",
       "         3.48664619e-01, -5.97175787e-01],\n",
       "       [ 7.94236909e-01, -7.28431359e-01,  1.94314240e+00,\n",
       "         8.86405260e-01,  8.26988431e-01,  1.19136679e+00,\n",
       "         8.04180693e-01, -1.51720388e-01,  1.02628472e+00,\n",
       "         1.37281295e+00,  2.15861776e-01,  1.17513930e+00,\n",
       "         1.74049761e+00,  1.34281769e-01],\n",
       "       [-1.12324798e+00,  1.37281295e+00,  6.02044425e-01,\n",
       "        -1.12815215e+00, -6.57808225e-01, -8.39372060e-01,\n",
       "         8.04180693e-01, -1.54119417e-02, -6.47005585e-01,\n",
       "        -7.28431359e-01, -1.37281964e+00,  1.17513930e+00,\n",
       "        -8.75334677e-01, -5.97175787e-01],\n",
       "       [-1.72049737e+00, -7.28431359e-01,  2.72881507e-02,\n",
       "        -1.12815215e+00,  2.40458488e+00, -8.39372060e-01,\n",
       "        -8.71195751e-01, -1.10587951e+00,  1.02628472e+00,\n",
       "        -7.28431359e-01, -1.27585786e+00,  1.17513930e+00,\n",
       "        -5.46448439e-01, -2.31447009e-01],\n",
       "       [-3.21676426e-01,  1.37281295e+00,  1.65576426e+00,\n",
       "        -1.12815215e+00,  9.19788222e-01, -8.39372060e-01,\n",
       "         8.04180693e-01,  3.93513398e-01,  1.02628472e+00,\n",
       "         1.37281295e+00, -7.53755988e-01,  1.17513930e+00,\n",
       "         5.70747594e-02, -9.62904565e-01],\n",
       "       [-7.46037836e-01,  1.37281295e+00,  1.89524604e+00,\n",
       "        -1.12815215e+00, -8.24495210e-02, -8.39372060e-01,\n",
       "         8.04180693e-01,  1.75419884e-01,  1.02628472e+00,\n",
       "        -7.28431359e-01, -9.77513934e-01, -8.50962943e-01,\n",
       "        -3.95567640e-01, -5.97175787e-01],\n",
       "       [-1.34328723e+00, -7.28431359e-01,  9.37318918e-01,\n",
       "        -1.12815215e+00,  3.02634348e+00, -8.39372060e-01,\n",
       "         8.04180693e-01,  1.73751468e+00,  1.02628472e+00,\n",
       "        -7.28431359e-01,  1.88658777e+00, -8.50962943e-01,\n",
       "         2.03208747e+00,  8.65739325e-01],\n",
       "       [ 8.25671088e-01, -7.28431359e-01,  7.16995680e-01,\n",
       "         8.86405260e-01,  2.08906559e+00, -8.39372060e-01,\n",
       "        -8.71195751e-01,  1.51805808e+00, -6.47005585e-01,\n",
       "         1.37281295e+00,  2.30778973e-01, -8.50962943e-01,\n",
       "         6.84332016e-01, -4.85826201e-02],\n",
       "       [ 2.59855875e-01,  1.37281295e+00,  1.17680070e+00,\n",
       "        -1.12815215e+00, -3.79408852e-01, -8.39372060e-01,\n",
       "         8.04180693e-01,  1.27951830e+00,  1.02628472e+00,\n",
       "         1.37281295e+00, -1.57068133e-01, -8.50962943e-01,\n",
       "         1.04712405e+00, -9.62904565e-01],\n",
       "       [-1.45330685e+00,  1.37281295e+00, -1.12222440e+00,\n",
       "         8.86405260e-01,  1.77389894e-01,  1.19136679e+00,\n",
       "        -8.71195751e-01, -2.88028835e-01, -6.47005585e-01,\n",
       "        -7.28431359e-01, -9.02927952e-01, -8.50962943e-01,\n",
       "         8.91157382e-01, -4.01972170e-03]])"
      ]
     },
     "execution_count": 70,
     "metadata": {},
     "output_type": "execute_result"
    }
   ],
   "source": [
    "X_test"
   ]
  },
  {
   "cell_type": "code",
   "execution_count": 71,
   "id": "5dea668a",
   "metadata": {},
   "outputs": [],
   "source": [
    "from sklearn.linear_model import LogisticRegression"
   ]
  },
  {
   "cell_type": "code",
   "execution_count": 72,
   "id": "25e22c20",
   "metadata": {},
   "outputs": [],
   "source": [
    "model_log_reg = LogisticRegression()"
   ]
  },
  {
   "cell_type": "code",
   "execution_count": 73,
   "id": "ad12c067",
   "metadata": {},
   "outputs": [
    {
     "data": {
      "text/plain": [
       "LogisticRegression()"
      ]
     },
     "execution_count": 73,
     "metadata": {},
     "output_type": "execute_result"
    }
   ],
   "source": [
    "model_log_reg.fit(X_train, y_train)"
   ]
  },
  {
   "cell_type": "code",
   "execution_count": 74,
   "id": "8963c9a5",
   "metadata": {},
   "outputs": [
    {
     "data": {
      "text/plain": [
       "0.8666666666666667"
      ]
     },
     "execution_count": 74,
     "metadata": {},
     "output_type": "execute_result"
    }
   ],
   "source": [
    "model_log_reg.score(X_train, y_train)"
   ]
  },
  {
   "cell_type": "code",
   "execution_count": 75,
   "id": "fdacd600",
   "metadata": {},
   "outputs": [
    {
     "data": {
      "text/plain": [
       "0.9076923076923077"
      ]
     },
     "execution_count": 75,
     "metadata": {},
     "output_type": "execute_result"
    }
   ],
   "source": [
    "model_log_reg.score(X_test, y_test)"
   ]
  },
  {
   "cell_type": "code",
   "execution_count": 76,
   "id": "03eb8851",
   "metadata": {},
   "outputs": [],
   "source": [
    "y_pred = model_log_reg.predict(X_test)"
   ]
  },
  {
   "cell_type": "code",
   "execution_count": 77,
   "id": "2296991a",
   "metadata": {},
   "outputs": [
    {
     "data": {
      "text/plain": [
       "array([1, 0, 1, 1, 1, 1, 1, 0, 1, 1, 1, 1, 1, 1, 1, 1, 1, 1, 1, 1, 1, 1,\n",
       "       0, 1, 1, 0, 1, 1, 1, 1, 0, 1, 0, 0, 0, 1, 0, 1, 0, 1, 1, 0, 1, 0,\n",
       "       1, 1, 0, 1, 1, 1, 1, 0, 1, 1, 1, 1, 1, 1, 1, 1, 1, 1, 1, 1, 0],\n",
       "      dtype=int64)"
      ]
     },
     "execution_count": 77,
     "metadata": {},
     "output_type": "execute_result"
    }
   ],
   "source": [
    "y_pred"
   ]
  },
  {
   "cell_type": "code",
   "execution_count": 80,
   "id": "73168fc5",
   "metadata": {},
   "outputs": [
    {
     "data": {
      "text/plain": [
       "array([1, 0, 1, 1, 1, 1, 1, 0, 0, 1, 1, 1, 1, 0, 1, 1, 1, 1, 1, 1, 1, 1,\n",
       "       1, 1, 1, 0, 1, 1, 1, 1, 0, 1, 0, 0, 0, 1, 0, 1, 0, 1, 1, 1, 0, 0,\n",
       "       1, 1, 0, 1, 1, 1, 1, 0, 1, 0, 1, 1, 1, 1, 1, 1, 1, 1, 1, 1, 0],\n",
       "      dtype=int64)"
      ]
     },
     "execution_count": 80,
     "metadata": {},
     "output_type": "execute_result"
    }
   ],
   "source": [
    "np.array(y_test)"
   ]
  },
  {
   "cell_type": "code",
   "execution_count": 82,
   "id": "e72c4a20",
   "metadata": {},
   "outputs": [],
   "source": [
    "from sklearn.metrics import ConfusionMatrixDisplay, confusion_matrix"
   ]
  },
  {
   "cell_type": "code",
   "execution_count": 84,
   "id": "48451394",
   "metadata": {},
   "outputs": [
    {
     "data": {
      "text/plain": [
       "<sklearn.metrics._plot.confusion_matrix.ConfusionMatrixDisplay at 0x24c335b2a90>"
      ]
     },
     "execution_count": 84,
     "metadata": {},
     "output_type": "execute_result"
    },
    {
     "data": {
      "image/png": "[encoded data removed]",
      "text/plain": [
       "<Figure size 432x288 with 2 Axes>"
      ]
     },
     "metadata": {
      "needs_background": "light"
     },
     "output_type": "display_data"
    }
   ],
   "source": [
    "ConfusionMatrixDisplay(confusion_matrix(y_true=y_test, y_pred=y_pred)).plot()"
   ]
  },
  {
   "cell_type": "code",
   "execution_count": 86,
   "id": "bdd5b7a0",
   "metadata": {},
   "outputs": [],
   "source": [
    "from sklearn.tree import DecisionTreeClassifier"
   ]
  },
  {
   "cell_type": "code",
   "execution_count": 87,
   "id": "e3f30900",
   "metadata": {},
   "outputs": [],
   "source": [
    "model_dt = DecisionTreeClassifier()"
   ]
  },
  {
   "cell_type": "code",
   "execution_count": 88,
   "id": "30610637",
   "metadata": {},
   "outputs": [
    {
     "data": {
      "text/plain": [
       "DecisionTreeClassifier()"
      ]
     },
     "execution_count": 88,
     "metadata": {},
     "output_type": "execute_result"
    }
   ],
   "source": [
    "model_dt.fit(X_train, y_train)"
   ]
  },
  {
   "cell_type": "code",
   "execution_count": 89,
   "id": "e74f3371",
   "metadata": {},
   "outputs": [
    {
     "data": {
      "text/plain": [
       "1.0"
      ]
     },
     "execution_count": 89,
     "metadata": {},
     "output_type": "execute_result"
    }
   ],
   "source": [
    "model_dt.score(X_train, y_train)"
   ]
  },
  {
   "cell_type": "code",
   "execution_count": 90,
   "id": "f2d026ff",
   "metadata": {},
   "outputs": [
    {
     "data": {
      "text/plain": [
       "0.9538461538461539"
      ]
     },
     "execution_count": 90,
     "metadata": {},
     "output_type": "execute_result"
    }
   ],
   "source": [
    "model_dt.score(X_test, y_test)"
   ]
  },
  {
   "cell_type": "code",
   "execution_count": 91,
   "id": "8adc412f",
   "metadata": {},
   "outputs": [],
   "source": [
    "y_pred = model_dt.predict(X_test)"
   ]
  },
  {
   "cell_type": "code",
   "execution_count": 92,
   "id": "d1005b2f",
   "metadata": {},
   "outputs": [
    {
     "data": {
      "text/plain": [
       "array([1, 0, 1, 1, 1, 0, 1, 0, 0, 1, 1, 1, 1, 0, 1, 1, 1, 1, 1, 1, 1, 1,\n",
       "       1, 1, 1, 0, 1, 0, 1, 1, 0, 1, 0, 0, 0, 1, 0, 1, 0, 1, 1, 1, 0, 0,\n",
       "       1, 1, 0, 1, 1, 1, 1, 0, 1, 0, 1, 1, 1, 1, 1, 1, 1, 1, 0, 1, 0],\n",
       "      dtype=int64)"
      ]
     },
     "execution_count": 92,
     "metadata": {},
     "output_type": "execute_result"
    }
   ],
   "source": [
    "y_pred"
   ]
  },
  {
   "cell_type": "code",
   "execution_count": 93,
   "id": "635af52e",
   "metadata": {},
   "outputs": [
    {
     "data": {
      "text/plain": [
       "<sklearn.metrics._plot.confusion_matrix.ConfusionMatrixDisplay at 0x24c33aa7c70>"
      ]
     },
     "execution_count": 93,
     "metadata": {},
     "output_type": "execute_result"
    },
    {
     "data": {
      "image/png": "[encoded data removed]",
      "text/plain": [
       "<Figure size 432x288 with 2 Axes>"
      ]
     },
     "metadata": {
      "needs_background": "light"
     },
     "output_type": "display_data"
    }
   ],
   "source": [
    "ConfusionMatrixDisplay(confusion_matrix(y_true=y_test, y_pred=y_pred)).plot()"
   ]
  },
  {
   "cell_type": "code",
   "execution_count": 94,
   "id": "a268c239",
   "metadata": {},
   "outputs": [],
   "source": [
    "from sklearn.ensemble import RandomForestClassifier"
   ]
  },
  {
   "cell_type": "code",
   "execution_count": 95,
   "id": "7edd2b73",
   "metadata": {},
   "outputs": [],
   "source": [
    "model_rf = RandomForestClassifier()"
   ]
  },
  {
   "cell_type": "code",
   "execution_count": 96,
   "id": "38d65025",
   "metadata": {},
   "outputs": [
    {
     "data": {
      "text/plain": [
       "RandomForestClassifier()"
      ]
     },
     "execution_count": 96,
     "metadata": {},
     "output_type": "execute_result"
    }
   ],
   "source": [
    "model_rf.fit(X_train, y_train)"
   ]
  },
  {
   "cell_type": "code",
   "execution_count": 97,
   "id": "47b92b46",
   "metadata": {},
   "outputs": [
    {
     "data": {
      "text/plain": [
       "1.0"
      ]
     },
     "execution_count": 97,
     "metadata": {},
     "output_type": "execute_result"
    }
   ],
   "source": [
    "model_rf.score(X_train, y_train)"
   ]
  },
  {
   "cell_type": "code",
   "execution_count": 98,
   "id": "30afc7c4",
   "metadata": {},
   "outputs": [
    {
     "data": {
      "text/plain": [
       "0.9692307692307692"
      ]
     },
     "execution_count": 98,
     "metadata": {},
     "output_type": "execute_result"
    }
   ],
   "source": [
    "model_rf.score(X_test, y_test)"
   ]
  },
  {
   "cell_type": "code",
   "execution_count": 99,
   "id": "d38dc19b",
   "metadata": {},
   "outputs": [],
   "source": [
    "y_pred = model_rf.predict(X_test)"
   ]
  },
  {
   "cell_type": "code",
   "execution_count": 100,
   "id": "b5ce99ba",
   "metadata": {},
   "outputs": [
    {
     "data": {
      "text/plain": [
       "array([1, 0, 1, 1, 1, 1, 1, 0, 1, 1, 1, 1, 1, 0, 1, 1, 1, 1, 1, 1, 1, 1,\n",
       "       1, 1, 1, 0, 1, 1, 1, 1, 0, 1, 0, 0, 0, 1, 0, 1, 0, 1, 1, 1, 0, 0,\n",
       "       1, 1, 0, 1, 1, 1, 1, 0, 1, 1, 1, 1, 1, 1, 1, 1, 1, 1, 1, 1, 0],\n",
       "      dtype=int64)"
      ]
     },
     "execution_count": 100,
     "metadata": {},
     "output_type": "execute_result"
    }
   ],
   "source": [
    "y_pred"
   ]
  },
  {
   "cell_type": "code",
   "execution_count": 101,
   "id": "6abe3a90",
   "metadata": {},
   "outputs": [
    {
     "data": {
      "text/plain": [
       "<sklearn.metrics._plot.confusion_matrix.ConfusionMatrixDisplay at 0x24c340b3b80>"
      ]
     },
     "execution_count": 101,
     "metadata": {},
     "output_type": "execute_result"
    },
    {
     "data": {
      "image/png": "[encoded data removed]",
      "text/plain": [
       "<Figure size 432x288 with 2 Axes>"
      ]
     },
     "metadata": {
      "needs_background": "light"
     },
     "output_type": "display_data"
    }
   ],
   "source": [
    "ConfusionMatrixDisplay(confusion_matrix(y_true=y_test, y_pred=y_pred)).plot()"
   ]
  },
  {
   "cell_type": "code",
   "execution_count": 102,
   "id": "f5e803f5",
   "metadata": {},
   "outputs": [
    {
     "data": {
      "text/plain": [
       "array([ 1.06142743,  1.37281295,  0.60204442,  0.88640526,  2.96138362,\n",
       "       -0.83937206, -0.87119575,  1.75659786, -0.64700558,  1.37281295,\n",
       "        1.26006552, -0.85096294,  1.48959471,  4.40111751])"
      ]
     },
     "execution_count": 102,
     "metadata": {},
     "output_type": "execute_result"
    }
   ],
   "source": [
    "X_test[0]"
   ]
  },
  {
   "cell_type": "code",
   "execution_count": null,
   "id": "07166a86",
   "metadata": {},
   "outputs": [],
   "source": []
  }
 ],
 "metadata": {
  "kernelspec": {
   "display_name": "Python 3 (ipykernel)",
   "language": "python",
   "name": "python3"
  },
  "language_info": {
   "codemirror_mode": {
    "name": "ipython",
    "version": 3
   },
   "file_extension": ".py",
   "mimetype": "text/x-python",
   "name": "python",
   "nbconvert_exporter": "python",
   "pygments_lexer": "ipython3",
   "version": "3.9.12"
  }
 },
 "nbformat": 4,
 "nbformat_minor": 5
}
