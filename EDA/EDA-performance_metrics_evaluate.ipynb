{
 "cells": [
  {
   "cell_type": "code",
   "execution_count": 2,
   "id": "c5424aef",
   "metadata": {},
   "outputs": [],
   "source": [
    "import pandas as pd\n",
    "import numpy as np\n",
    "import seaborn as sns\n",
    "import matplotlib.pyplot as plt\n",
    "%matplotlib inline\n",
    "import pickle"
   ]
  },
  {
   "cell_type": "code",
   "execution_count": 3,
   "id": "f5be75da",
   "metadata": {},
   "outputs": [],
   "source": [
    "df = pd.read_csv('dataset/train_clean.csv')"
   ]
  },
  {
   "cell_type": "code",
   "execution_count": 4,
   "id": "56568d7a",
   "metadata": {},
   "outputs": [
    {
     "data": {
      "text/html": [
       "<div>\n",
       "<style scoped>\n",
       "    .dataframe tbody tr th:only-of-type {\n",
       "        vertical-align: middle;\n",
       "    }\n",
       "\n",
       "    .dataframe tbody tr th {\n",
       "        vertical-align: top;\n",
       "    }\n",
       "\n",
       "    .dataframe thead th {\n",
       "        text-align: right;\n",
       "    }\n",
       "</style>\n",
       "<table border=\"1\" class=\"dataframe\">\n",
       "  <thead>\n",
       "    <tr style=\"text-align: right;\">\n",
       "      <th></th>\n",
       "      <th>sl_no</th>\n",
       "      <th>gender</th>\n",
       "      <th>ssc_p</th>\n",
       "      <th>ssc_b</th>\n",
       "      <th>hsc_p</th>\n",
       "      <th>hsc_b</th>\n",
       "      <th>hsc_s</th>\n",
       "      <th>degree_p</th>\n",
       "      <th>degree_t</th>\n",
       "      <th>workex</th>\n",
       "      <th>etest_p</th>\n",
       "      <th>specialisation</th>\n",
       "      <th>mba_p</th>\n",
       "      <th>status</th>\n",
       "      <th>salary</th>\n",
       "    </tr>\n",
       "  </thead>\n",
       "  <tbody>\n",
       "    <tr>\n",
       "      <th>0</th>\n",
       "      <td>1</td>\n",
       "      <td>0</td>\n",
       "      <td>67.00</td>\n",
       "      <td>0</td>\n",
       "      <td>91.00</td>\n",
       "      <td>0</td>\n",
       "      <td>0</td>\n",
       "      <td>58.00</td>\n",
       "      <td>1</td>\n",
       "      <td>0</td>\n",
       "      <td>55.0</td>\n",
       "      <td>1</td>\n",
       "      <td>58.80</td>\n",
       "      <td>1</td>\n",
       "      <td>270000.000000</td>\n",
       "    </tr>\n",
       "    <tr>\n",
       "      <th>1</th>\n",
       "      <td>2</td>\n",
       "      <td>0</td>\n",
       "      <td>79.33</td>\n",
       "      <td>1</td>\n",
       "      <td>78.33</td>\n",
       "      <td>0</td>\n",
       "      <td>1</td>\n",
       "      <td>77.48</td>\n",
       "      <td>1</td>\n",
       "      <td>1</td>\n",
       "      <td>86.5</td>\n",
       "      <td>0</td>\n",
       "      <td>66.28</td>\n",
       "      <td>1</td>\n",
       "      <td>200000.000000</td>\n",
       "    </tr>\n",
       "    <tr>\n",
       "      <th>2</th>\n",
       "      <td>3</td>\n",
       "      <td>0</td>\n",
       "      <td>65.00</td>\n",
       "      <td>1</td>\n",
       "      <td>68.00</td>\n",
       "      <td>1</td>\n",
       "      <td>2</td>\n",
       "      <td>64.00</td>\n",
       "      <td>0</td>\n",
       "      <td>0</td>\n",
       "      <td>75.0</td>\n",
       "      <td>0</td>\n",
       "      <td>57.80</td>\n",
       "      <td>1</td>\n",
       "      <td>250000.000000</td>\n",
       "    </tr>\n",
       "    <tr>\n",
       "      <th>3</th>\n",
       "      <td>4</td>\n",
       "      <td>0</td>\n",
       "      <td>56.00</td>\n",
       "      <td>1</td>\n",
       "      <td>52.00</td>\n",
       "      <td>1</td>\n",
       "      <td>1</td>\n",
       "      <td>52.00</td>\n",
       "      <td>1</td>\n",
       "      <td>0</td>\n",
       "      <td>66.0</td>\n",
       "      <td>1</td>\n",
       "      <td>59.43</td>\n",
       "      <td>0</td>\n",
       "      <td>288655.405405</td>\n",
       "    </tr>\n",
       "    <tr>\n",
       "      <th>4</th>\n",
       "      <td>5</td>\n",
       "      <td>0</td>\n",
       "      <td>85.80</td>\n",
       "      <td>1</td>\n",
       "      <td>73.60</td>\n",
       "      <td>1</td>\n",
       "      <td>0</td>\n",
       "      <td>73.30</td>\n",
       "      <td>0</td>\n",
       "      <td>0</td>\n",
       "      <td>96.8</td>\n",
       "      <td>0</td>\n",
       "      <td>55.50</td>\n",
       "      <td>1</td>\n",
       "      <td>425000.000000</td>\n",
       "    </tr>\n",
       "  </tbody>\n",
       "</table>\n",
       "</div>"
      ],
      "text/plain": [
       "   sl_no  gender  ssc_p  ssc_b  hsc_p  hsc_b  hsc_s  degree_p  degree_t  \\\n",
       "0      1       0  67.00      0  91.00      0      0     58.00         1   \n",
       "1      2       0  79.33      1  78.33      0      1     77.48         1   \n",
       "2      3       0  65.00      1  68.00      1      2     64.00         0   \n",
       "3      4       0  56.00      1  52.00      1      1     52.00         1   \n",
       "4      5       0  85.80      1  73.60      1      0     73.30         0   \n",
       "\n",
       "   workex  etest_p  specialisation  mba_p  status         salary  \n",
       "0       0     55.0               1  58.80       1  270000.000000  \n",
       "1       1     86.5               0  66.28       1  200000.000000  \n",
       "2       0     75.0               0  57.80       1  250000.000000  \n",
       "3       0     66.0               1  59.43       0  288655.405405  \n",
       "4       0     96.8               0  55.50       1  425000.000000  "
      ]
     },
     "execution_count": 4,
     "metadata": {},
     "output_type": "execute_result"
    }
   ],
   "source": [
    "df.head()"
   ]
  },
  {
   "cell_type": "code",
   "execution_count": 5,
   "id": "44ebdfe4",
   "metadata": {},
   "outputs": [
    {
     "name": "stdout",
     "output_type": "stream",
     "text": [
      "<class 'pandas.core.frame.DataFrame'>\n",
      "RangeIndex: 215 entries, 0 to 214\n",
      "Data columns (total 15 columns):\n",
      " #   Column          Non-Null Count  Dtype  \n",
      "---  ------          --------------  -----  \n",
      " 0   sl_no           215 non-null    int64  \n",
      " 1   gender          215 non-null    int64  \n",
      " 2   ssc_p           215 non-null    float64\n",
      " 3   ssc_b           215 non-null    int64  \n",
      " 4   hsc_p           215 non-null    float64\n",
      " 5   hsc_b           215 non-null    int64  \n",
      " 6   hsc_s           215 non-null    int64  \n",
      " 7   degree_p        215 non-null    float64\n",
      " 8   degree_t        215 non-null    int64  \n",
      " 9   workex          215 non-null    int64  \n",
      " 10  etest_p         215 non-null    float64\n",
      " 11  specialisation  215 non-null    int64  \n",
      " 12  mba_p           215 non-null    float64\n",
      " 13  status          215 non-null    int64  \n",
      " 14  salary          215 non-null    float64\n",
      "dtypes: float64(6), int64(9)\n",
      "memory usage: 25.3 KB\n"
     ]
    }
   ],
   "source": [
    "df.info()"
   ]
  },
  {
   "cell_type": "code",
   "execution_count": 6,
   "id": "720ad667",
   "metadata": {},
   "outputs": [],
   "source": [
    "from sklearn.model_selection import train_test_split\n",
    "from sklearn.linear_model import LogisticRegression\n",
    "from sklearn.tree import DecisionTreeClassifier\n",
    "from sklearn.svm import SVC\n",
    "from sklearn.ensemble import RandomForestClassifier\n",
    "from xgboost import XGBRFClassifier\n",
    "from sklearn.metrics import ConfusionMatrixDisplay, precision_score, recall_score, f1_score, roc_auc_score, confusion_matrix, accuracy_score\n",
    "import warnings\n",
    "warnings.filterwarnings('ignore')"
   ]
  },
  {
   "cell_type": "code",
   "execution_count": 7,
   "id": "a116ff50",
   "metadata": {},
   "outputs": [
    {
     "data": {
      "text/plain": [
       "((150, 14), (65, 14), (150,), (65,))"
      ]
     },
     "execution_count": 7,
     "metadata": {},
     "output_type": "execute_result"
    }
   ],
   "source": [
    "X = df.drop(columns=['status'], axis=1)\n",
    "y = df['status']\n",
    "X_train, X_test, y_train, y_test = train_test_split(X, y, test_size=0.3)\n",
    "X_train.shape, X_test.shape, y_train.shape, y_test.shape"
   ]
  },
  {
   "cell_type": "code",
   "execution_count": 8,
   "id": "fc6582ca",
   "metadata": {},
   "outputs": [],
   "source": [
    "models = {'logistic':LogisticRegression(),\n",
    "         'decision_tree': DecisionTreeClassifier(),\n",
    "         'svc':SVC(),\n",
    "         'randomforest':RandomForestClassifier(),\n",
    "         'xgb':XGBRFClassifier()\n",
    "         }"
   ]
  },
  {
   "cell_type": "code",
   "execution_count": 9,
   "id": "5ed3619a",
   "metadata": {},
   "outputs": [],
   "source": [
    "performance_df = pd.DataFrame()\n",
    "performance_dict = dict()\n",
    "model_name = []\n",
    "train_score = []\n",
    "test_score = []\n",
    "precision = []\n",
    "recall = []\n",
    "f1 = []\n",
    "accuracy = []"
   ]
  },
  {
   "cell_type": "code",
   "execution_count": 10,
   "id": "5d45834a",
   "metadata": {},
   "outputs": [
    {
     "name": "stdout",
     "output_type": "stream",
     "text": [
      "Training Started for logistic\n",
      "Training Score : 0.8666666666666667\n",
      "Testing Score: 0.7692307692307693\n",
      "Accuracy Score: 0.7692307692307693\n",
      "Precision Score: 0.8333333333333334\n",
      "Recall Score: 0.851063829787234\n",
      "F1 Score: 0.8421052631578947\n",
      "Confusion Matrix for logistic is as follows:\n"
     ]
    },
    {
     "data": {
      "image/png": "[encoded data removed]",
      "text/plain": [
       "<Figure size 432x288 with 2 Axes>"
      ]
     },
     "metadata": {
      "needs_background": "light"
     },
     "output_type": "display_data"
    },
    {
     "name": "stdout",
     "output_type": "stream",
     "text": [
      "****************************************************************************************************\n",
      "Training Started for decision_tree\n",
      "Training Score : 1.0\n",
      "Testing Score: 0.9538461538461539\n",
      "Accuracy Score: 0.9538461538461539\n",
      "Precision Score: 1.0\n",
      "Recall Score: 0.9361702127659575\n",
      "F1 Score: 0.967032967032967\n",
      "Confusion Matrix for decision_tree is as follows:\n"
     ]
    },
    {
     "data": {
      "image/png": "[encoded data removed]",
      "text/plain": [
       "<Figure size 432x288 with 2 Axes>"
      ]
     },
     "metadata": {
      "needs_background": "light"
     },
     "output_type": "display_data"
    },
    {
     "name": "stdout",
     "output_type": "stream",
     "text": [
      "****************************************************************************************************\n",
      "Training Started for svc\n",
      "Training Score : 0.6733333333333333\n",
      "Testing Score: 0.7230769230769231\n",
      "Accuracy Score: 0.7230769230769231\n",
      "Precision Score: 0.7230769230769231\n",
      "Recall Score: 1.0\n",
      "F1 Score: 0.8392857142857142\n",
      "Confusion Matrix for svc is as follows:\n"
     ]
    },
    {
     "data": {
      "image/png": "[encoded data removed]",
      "text/plain": [
       "<Figure size 432x288 with 2 Axes>"
      ]
     },
     "metadata": {
      "needs_background": "light"
     },
     "output_type": "display_data"
    },
    {
     "name": "stdout",
     "output_type": "stream",
     "text": [
      "****************************************************************************************************\n",
      "Training Started for randomforest\n",
      "Training Score : 1.0\n",
      "Testing Score: 0.9538461538461539\n",
      "Accuracy Score: 0.9538461538461539\n",
      "Precision Score: 0.94\n",
      "Recall Score: 1.0\n",
      "F1 Score: 0.9690721649484536\n",
      "Confusion Matrix for randomforest is as follows:\n"
     ]
    },
    {
     "data": {
      "image/png": "[encoded data removed]",
      "text/plain": [
       "<Figure size 432x288 with 2 Axes>"
      ]
     },
     "metadata": {
      "needs_background": "light"
     },
     "output_type": "display_data"
    },
    {
     "name": "stdout",
     "output_type": "stream",
     "text": [
      "****************************************************************************************************\n",
      "Training Started for xgb\n",
      "Training Score : 1.0\n",
      "Testing Score: 0.9846153846153847\n",
      "Accuracy Score: 0.9846153846153847\n",
      "Precision Score: 1.0\n",
      "Recall Score: 0.9787234042553191\n",
      "F1 Score: 0.989247311827957\n",
      "Confusion Matrix for xgb is as follows:\n"
     ]
    },
    {
     "data": {
      "image/png": "[encoded data removed]",
      "text/plain": [
       "<Figure size 432x288 with 2 Axes>"
      ]
     },
     "metadata": {
      "needs_background": "light"
     },
     "output_type": "display_data"
    },
    {
     "name": "stdout",
     "output_type": "stream",
     "text": [
      "****************************************************************************************************\n"
     ]
    }
   ],
   "source": [
    "for name,model in models.items():\n",
    "    print(f\"Training Started for {name}\")\n",
    "    model_name.append(name)\n",
    "    model.fit(X_train, y_train)\n",
    "    print(f\"Training Score : {model.score(X_train, y_train)}\")\n",
    "    train_score.append(model.score(X_train, y_train))\n",
    "    print(f\"Testing Score: {model.score(X_test, y_test)}\")\n",
    "    test_score.append(model.score(X_test, y_test))\n",
    "    y_pred = model.predict(X_test)\n",
    "    print(f\"Accuracy Score: {accuracy_score(y_true=y_test, y_pred=y_pred)}\")\n",
    "    accuracy.append(accuracy_score(y_true=y_test, y_pred=y_pred))\n",
    "    print(f\"Precision Score: {precision_score(y_true=y_test, y_pred=y_pred)}\")\n",
    "    precision.append(precision_score(y_true=y_test, y_pred=y_pred))\n",
    "    print(f\"Recall Score: {recall_score(y_true=y_test, y_pred=y_pred)}\")\n",
    "    recall.append(recall_score(y_true=y_test, y_pred=y_pred))\n",
    "    print(f\"F1 Score: {f1_score(y_true=y_test, y_pred=y_pred)}\")\n",
    "    f1.append(f1_score(y_true=y_test, y_pred=y_pred))\n",
    "    print(f\"Confusion Matrix for {name} is as follows:\")\n",
    "    ConfusionMatrixDisplay(confusion_matrix(y_true=y_test, y_pred=y_pred), display_labels=model.classes_).plot()\n",
    "    plt.show()\n",
    "    print(\"*\"*100)"
   ]
  },
  {
   "cell_type": "code",
   "execution_count": 11,
   "id": "fe7cac3b",
   "metadata": {},
   "outputs": [],
   "source": [
    "d = {'model_name':model_name, 'Training_score':train_score,'Testing_Score':test_score,'accuracy_score':accuracy,'Precision_Score':precision,\n",
    "     'Recall_Score':recall,'F1_Score':f1}\n",
    "performance_df = pd.DataFrame(d)"
   ]
  },
  {
   "cell_type": "code",
   "execution_count": 12,
   "id": "11741380",
   "metadata": {},
   "outputs": [
    {
     "data": {
      "text/html": [
       "<div>\n",
       "<style scoped>\n",
       "    .dataframe tbody tr th:only-of-type {\n",
       "        vertical-align: middle;\n",
       "    }\n",
       "\n",
       "    .dataframe tbody tr th {\n",
       "        vertical-align: top;\n",
       "    }\n",
       "\n",
       "    .dataframe thead th {\n",
       "        text-align: right;\n",
       "    }\n",
       "</style>\n",
       "<table border=\"1\" class=\"dataframe\">\n",
       "  <thead>\n",
       "    <tr style=\"text-align: right;\">\n",
       "      <th></th>\n",
       "      <th>model_name</th>\n",
       "      <th>Training_score</th>\n",
       "      <th>Testing_Score</th>\n",
       "      <th>accuracy_score</th>\n",
       "      <th>Precision_Score</th>\n",
       "      <th>Recall_Score</th>\n",
       "      <th>F1_Score</th>\n",
       "    </tr>\n",
       "  </thead>\n",
       "  <tbody>\n",
       "    <tr>\n",
       "      <th>0</th>\n",
       "      <td>logistic</td>\n",
       "      <td>0.866667</td>\n",
       "      <td>0.769231</td>\n",
       "      <td>0.769231</td>\n",
       "      <td>0.833333</td>\n",
       "      <td>0.851064</td>\n",
       "      <td>0.842105</td>\n",
       "    </tr>\n",
       "    <tr>\n",
       "      <th>1</th>\n",
       "      <td>decision_tree</td>\n",
       "      <td>1.000000</td>\n",
       "      <td>0.953846</td>\n",
       "      <td>0.953846</td>\n",
       "      <td>1.000000</td>\n",
       "      <td>0.936170</td>\n",
       "      <td>0.967033</td>\n",
       "    </tr>\n",
       "    <tr>\n",
       "      <th>2</th>\n",
       "      <td>svc</td>\n",
       "      <td>0.673333</td>\n",
       "      <td>0.723077</td>\n",
       "      <td>0.723077</td>\n",
       "      <td>0.723077</td>\n",
       "      <td>1.000000</td>\n",
       "      <td>0.839286</td>\n",
       "    </tr>\n",
       "    <tr>\n",
       "      <th>3</th>\n",
       "      <td>randomforest</td>\n",
       "      <td>1.000000</td>\n",
       "      <td>0.953846</td>\n",
       "      <td>0.953846</td>\n",
       "      <td>0.940000</td>\n",
       "      <td>1.000000</td>\n",
       "      <td>0.969072</td>\n",
       "    </tr>\n",
       "    <tr>\n",
       "      <th>4</th>\n",
       "      <td>xgb</td>\n",
       "      <td>1.000000</td>\n",
       "      <td>0.984615</td>\n",
       "      <td>0.984615</td>\n",
       "      <td>1.000000</td>\n",
       "      <td>0.978723</td>\n",
       "      <td>0.989247</td>\n",
       "    </tr>\n",
       "  </tbody>\n",
       "</table>\n",
       "</div>"
      ],
      "text/plain": [
       "      model_name  Training_score  Testing_Score  accuracy_score  \\\n",
       "0       logistic        0.866667       0.769231        0.769231   \n",
       "1  decision_tree        1.000000       0.953846        0.953846   \n",
       "2            svc        0.673333       0.723077        0.723077   \n",
       "3   randomforest        1.000000       0.953846        0.953846   \n",
       "4            xgb        1.000000       0.984615        0.984615   \n",
       "\n",
       "   Precision_Score  Recall_Score  F1_Score  \n",
       "0         0.833333      0.851064  0.842105  \n",
       "1         1.000000      0.936170  0.967033  \n",
       "2         0.723077      1.000000  0.839286  \n",
       "3         0.940000      1.000000  0.969072  \n",
       "4         1.000000      0.978723  0.989247  "
      ]
     },
     "execution_count": 12,
     "metadata": {},
     "output_type": "execute_result"
    }
   ],
   "source": [
    "performance_df"
   ]
  },
  {
   "cell_type": "code",
   "execution_count": 13,
   "id": "042addf6",
   "metadata": {},
   "outputs": [
    {
     "data": {
      "text/plain": [
       "[0.8333333333333334, 1.0, 0.7230769230769231, 0.94, 1.0]"
      ]
     },
     "execution_count": 13,
     "metadata": {},
     "output_type": "execute_result"
    }
   ],
   "source": [
    "precision"
   ]
  },
  {
   "cell_type": "code",
   "execution_count": 14,
   "id": "c2ffee33",
   "metadata": {},
   "outputs": [
    {
     "name": "stdout",
     "output_type": "stream",
     "text": [
      "<class 'pandas.core.frame.DataFrame'>\n",
      "RangeIndex: 215 entries, 0 to 214\n",
      "Data columns (total 15 columns):\n",
      " #   Column          Non-Null Count  Dtype  \n",
      "---  ------          --------------  -----  \n",
      " 0   sl_no           215 non-null    int64  \n",
      " 1   gender          215 non-null    int64  \n",
      " 2   ssc_p           215 non-null    float64\n",
      " 3   ssc_b           215 non-null    int64  \n",
      " 4   hsc_p           215 non-null    float64\n",
      " 5   hsc_b           215 non-null    int64  \n",
      " 6   hsc_s           215 non-null    int64  \n",
      " 7   degree_p        215 non-null    float64\n",
      " 8   degree_t        215 non-null    int64  \n",
      " 9   workex          215 non-null    int64  \n",
      " 10  etest_p         215 non-null    float64\n",
      " 11  specialisation  215 non-null    int64  \n",
      " 12  mba_p           215 non-null    float64\n",
      " 13  status          215 non-null    int64  \n",
      " 14  salary          215 non-null    float64\n",
      "dtypes: float64(6), int64(9)\n",
      "memory usage: 25.3 KB\n"
     ]
    }
   ],
   "source": [
    "df.info()"
   ]
  },
  {
   "cell_type": "code",
   "execution_count": 15,
   "id": "3eac3409",
   "metadata": {},
   "outputs": [
    {
     "data": {
      "text/plain": [
       "1    148\n",
       "0     67\n",
       "Name: status, dtype: int64"
      ]
     },
     "execution_count": 15,
     "metadata": {},
     "output_type": "execute_result"
    }
   ],
   "source": [
    "df['status'].value_counts()"
   ]
  },
  {
   "cell_type": "code",
   "execution_count": 16,
   "id": "8335ec65",
   "metadata": {},
   "outputs": [
    {
     "data": {
      "text/plain": [
       "0.3116279069767442"
      ]
     },
     "execution_count": 16,
     "metadata": {},
     "output_type": "execute_result"
    }
   ],
   "source": [
    "67/215"
   ]
  },
  {
   "cell_type": "code",
   "execution_count": 17,
   "id": "002a7447",
   "metadata": {},
   "outputs": [
    {
     "data": {
      "text/html": [
       "<div>\n",
       "<style scoped>\n",
       "    .dataframe tbody tr th:only-of-type {\n",
       "        vertical-align: middle;\n",
       "    }\n",
       "\n",
       "    .dataframe tbody tr th {\n",
       "        vertical-align: top;\n",
       "    }\n",
       "\n",
       "    .dataframe thead th {\n",
       "        text-align: right;\n",
       "    }\n",
       "</style>\n",
       "<table border=\"1\" class=\"dataframe\">\n",
       "  <thead>\n",
       "    <tr style=\"text-align: right;\">\n",
       "      <th></th>\n",
       "      <th>model_name</th>\n",
       "      <th>Training_score</th>\n",
       "      <th>Testing_Score</th>\n",
       "      <th>accuracy_score</th>\n",
       "      <th>Precision_Score</th>\n",
       "      <th>Recall_Score</th>\n",
       "      <th>F1_Score</th>\n",
       "    </tr>\n",
       "  </thead>\n",
       "  <tbody>\n",
       "    <tr>\n",
       "      <th>1</th>\n",
       "      <td>decision_tree</td>\n",
       "      <td>1.000000</td>\n",
       "      <td>0.953846</td>\n",
       "      <td>0.953846</td>\n",
       "      <td>1.000000</td>\n",
       "      <td>0.936170</td>\n",
       "      <td>0.967033</td>\n",
       "    </tr>\n",
       "    <tr>\n",
       "      <th>4</th>\n",
       "      <td>xgb</td>\n",
       "      <td>1.000000</td>\n",
       "      <td>0.984615</td>\n",
       "      <td>0.984615</td>\n",
       "      <td>1.000000</td>\n",
       "      <td>0.978723</td>\n",
       "      <td>0.989247</td>\n",
       "    </tr>\n",
       "    <tr>\n",
       "      <th>3</th>\n",
       "      <td>randomforest</td>\n",
       "      <td>1.000000</td>\n",
       "      <td>0.953846</td>\n",
       "      <td>0.953846</td>\n",
       "      <td>0.940000</td>\n",
       "      <td>1.000000</td>\n",
       "      <td>0.969072</td>\n",
       "    </tr>\n",
       "    <tr>\n",
       "      <th>0</th>\n",
       "      <td>logistic</td>\n",
       "      <td>0.866667</td>\n",
       "      <td>0.769231</td>\n",
       "      <td>0.769231</td>\n",
       "      <td>0.833333</td>\n",
       "      <td>0.851064</td>\n",
       "      <td>0.842105</td>\n",
       "    </tr>\n",
       "    <tr>\n",
       "      <th>2</th>\n",
       "      <td>svc</td>\n",
       "      <td>0.673333</td>\n",
       "      <td>0.723077</td>\n",
       "      <td>0.723077</td>\n",
       "      <td>0.723077</td>\n",
       "      <td>1.000000</td>\n",
       "      <td>0.839286</td>\n",
       "    </tr>\n",
       "  </tbody>\n",
       "</table>\n",
       "</div>"
      ],
      "text/plain": [
       "      model_name  Training_score  Testing_Score  accuracy_score  \\\n",
       "1  decision_tree        1.000000       0.953846        0.953846   \n",
       "4            xgb        1.000000       0.984615        0.984615   \n",
       "3   randomforest        1.000000       0.953846        0.953846   \n",
       "0       logistic        0.866667       0.769231        0.769231   \n",
       "2            svc        0.673333       0.723077        0.723077   \n",
       "\n",
       "   Precision_Score  Recall_Score  F1_Score  \n",
       "1         1.000000      0.936170  0.967033  \n",
       "4         1.000000      0.978723  0.989247  \n",
       "3         0.940000      1.000000  0.969072  \n",
       "0         0.833333      0.851064  0.842105  \n",
       "2         0.723077      1.000000  0.839286  "
      ]
     },
     "execution_count": 17,
     "metadata": {},
     "output_type": "execute_result"
    }
   ],
   "source": [
    "performance_df.sort_values(by='Precision_Score', ascending=False)"
   ]
  },
  {
   "cell_type": "code",
   "execution_count": 18,
   "id": "47dad160",
   "metadata": {},
   "outputs": [],
   "source": [
    "best_model = performance_df.sort_values(by='Precision_Score', ascending=False)"
   ]
  },
  {
   "cell_type": "code",
   "execution_count": 22,
   "id": "c9d2dd80",
   "metadata": {},
   "outputs": [
    {
     "data": {
      "text/plain": [
       "'decision_tree'"
      ]
     },
     "execution_count": 22,
     "metadata": {},
     "output_type": "execute_result"
    }
   ],
   "source": [
    "best_model.iloc[0][0]"
   ]
  },
  {
   "cell_type": "code",
   "execution_count": 26,
   "id": "184447ee",
   "metadata": {},
   "outputs": [
    {
     "data": {
      "text/plain": [
       "'logistic'"
      ]
     },
     "execution_count": 26,
     "metadata": {},
     "output_type": "execute_result"
    }
   ],
   "source": [
    "best_model.loc[0,'model_name']"
   ]
  },
  {
   "cell_type": "code",
   "execution_count": null,
   "id": "f473bbbd",
   "metadata": {},
   "outputs": [],
   "source": []
  }
 ],
 "metadata": {
  "kernelspec": {
   "display_name": "Python 3 (ipykernel)",
   "language": "python",
   "name": "python3"
  },
  "language_info": {
   "codemirror_mode": {
    "name": "ipython",
    "version": 3
   },
   "file_extension": ".py",
   "mimetype": "text/x-python",
   "name": "python",
   "nbconvert_exporter": "python",
   "pygments_lexer": "ipython3",
   "version": "3.9.12"
  }
 },
 "nbformat": 4,
 "nbformat_minor": 5
}
